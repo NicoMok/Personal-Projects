{
 "cells": [
  {
   "cell_type": "markdown",
   "id": "0595d820-30ad-46fa-b3eb-1160fa68859a",
   "metadata": {},
   "source": [
    "# Using Neural Networks to Recognize Handwritten Digits in TensorFlow and Numpy"
   ]
  },
  {
   "cell_type": "code",
   "execution_count": 2,
   "id": "186a3cb9-3f8e-4acf-8758-d14bb2b84279",
   "metadata": {},
   "outputs": [],
   "source": [
    "import numpy as np\n",
    "import pandas as pd\n",
    "import matplotlib.pyplot as plt\n",
    "import tensorflow as tf\n",
    "from tensorflow.keras import Sequential\n",
    "from tensorflow.keras.layers import Dense"
   ]
  },
  {
   "cell_type": "markdown",
   "id": "82a01338-9d8a-4be8-bea4-f8e1ff4ee568",
   "metadata": {},
   "source": [
    "<a href = 'https://www.kaggle.com/code/midhunlalvs/digit-recognizer-mnist-dataset-with-cnn-98'>Link to dataset</a>"
   ]
  },
  {
   "cell_type": "markdown",
   "id": "3624bebc-9af1-4e7f-ada1-b80c6b07d46a",
   "metadata": {},
   "source": [
    "Purpose: To detect a handwritten digit as 0 - 9. \n",
    "<ul>\n",
    "    <li>The csv file in the dataset consists of pixel-values of 28 pixel x 28 pixel images.</li>\n",
    "    <li>Each pixel-value ranges from 0 to 255. Higher pixel-value indicates a darker pixel.</li>\n",
    "    <li>Each row represents the pixel-values of 1 image. Pixel x is located at row i and column j where i and j are integers between 0 and 27, and x = 28*i + j</li>\n",
    "    <li>For each of the 28000 images in the test set, provide a prediction of the ImageID and the digit you predict.</li>\n",
    "</ul>\n"
   ]
  },
  {
   "cell_type": "markdown",
   "id": "e6886df8-05b2-4c97-b824-400861c36583",
   "metadata": {},
   "source": [
    "#### Import the test and train data as Pandas arrays and convert them to Numpy arrays."
   ]
  },
  {
   "cell_type": "code",
   "execution_count": 3,
   "id": "0c743652-c8c4-44db-aa19-e7c10e642cdf",
   "metadata": {},
   "outputs": [
    {
     "data": {
      "text/html": [
       "<div>\n",
       "<style scoped>\n",
       "    .dataframe tbody tr th:only-of-type {\n",
       "        vertical-align: middle;\n",
       "    }\n",
       "\n",
       "    .dataframe tbody tr th {\n",
       "        vertical-align: top;\n",
       "    }\n",
       "\n",
       "    .dataframe thead th {\n",
       "        text-align: right;\n",
       "    }\n",
       "</style>\n",
       "<table border=\"1\" class=\"dataframe\">\n",
       "  <thead>\n",
       "    <tr style=\"text-align: right;\">\n",
       "      <th></th>\n",
       "      <th>pixel0</th>\n",
       "      <th>pixel1</th>\n",
       "      <th>pixel2</th>\n",
       "      <th>pixel3</th>\n",
       "      <th>pixel4</th>\n",
       "      <th>pixel5</th>\n",
       "      <th>pixel6</th>\n",
       "      <th>pixel7</th>\n",
       "      <th>pixel8</th>\n",
       "      <th>pixel9</th>\n",
       "      <th>...</th>\n",
       "      <th>pixel774</th>\n",
       "      <th>pixel775</th>\n",
       "      <th>pixel776</th>\n",
       "      <th>pixel777</th>\n",
       "      <th>pixel778</th>\n",
       "      <th>pixel779</th>\n",
       "      <th>pixel780</th>\n",
       "      <th>pixel781</th>\n",
       "      <th>pixel782</th>\n",
       "      <th>pixel783</th>\n",
       "    </tr>\n",
       "    <tr>\n",
       "      <th>label</th>\n",
       "      <th></th>\n",
       "      <th></th>\n",
       "      <th></th>\n",
       "      <th></th>\n",
       "      <th></th>\n",
       "      <th></th>\n",
       "      <th></th>\n",
       "      <th></th>\n",
       "      <th></th>\n",
       "      <th></th>\n",
       "      <th></th>\n",
       "      <th></th>\n",
       "      <th></th>\n",
       "      <th></th>\n",
       "      <th></th>\n",
       "      <th></th>\n",
       "      <th></th>\n",
       "      <th></th>\n",
       "      <th></th>\n",
       "      <th></th>\n",
       "      <th></th>\n",
       "    </tr>\n",
       "  </thead>\n",
       "  <tbody>\n",
       "    <tr>\n",
       "      <th>1</th>\n",
       "      <td>0</td>\n",
       "      <td>0</td>\n",
       "      <td>0</td>\n",
       "      <td>0</td>\n",
       "      <td>0</td>\n",
       "      <td>0</td>\n",
       "      <td>0</td>\n",
       "      <td>0</td>\n",
       "      <td>0</td>\n",
       "      <td>0</td>\n",
       "      <td>...</td>\n",
       "      <td>0</td>\n",
       "      <td>0</td>\n",
       "      <td>0</td>\n",
       "      <td>0</td>\n",
       "      <td>0</td>\n",
       "      <td>0</td>\n",
       "      <td>0</td>\n",
       "      <td>0</td>\n",
       "      <td>0</td>\n",
       "      <td>0</td>\n",
       "    </tr>\n",
       "    <tr>\n",
       "      <th>0</th>\n",
       "      <td>0</td>\n",
       "      <td>0</td>\n",
       "      <td>0</td>\n",
       "      <td>0</td>\n",
       "      <td>0</td>\n",
       "      <td>0</td>\n",
       "      <td>0</td>\n",
       "      <td>0</td>\n",
       "      <td>0</td>\n",
       "      <td>0</td>\n",
       "      <td>...</td>\n",
       "      <td>0</td>\n",
       "      <td>0</td>\n",
       "      <td>0</td>\n",
       "      <td>0</td>\n",
       "      <td>0</td>\n",
       "      <td>0</td>\n",
       "      <td>0</td>\n",
       "      <td>0</td>\n",
       "      <td>0</td>\n",
       "      <td>0</td>\n",
       "    </tr>\n",
       "    <tr>\n",
       "      <th>1</th>\n",
       "      <td>0</td>\n",
       "      <td>0</td>\n",
       "      <td>0</td>\n",
       "      <td>0</td>\n",
       "      <td>0</td>\n",
       "      <td>0</td>\n",
       "      <td>0</td>\n",
       "      <td>0</td>\n",
       "      <td>0</td>\n",
       "      <td>0</td>\n",
       "      <td>...</td>\n",
       "      <td>0</td>\n",
       "      <td>0</td>\n",
       "      <td>0</td>\n",
       "      <td>0</td>\n",
       "      <td>0</td>\n",
       "      <td>0</td>\n",
       "      <td>0</td>\n",
       "      <td>0</td>\n",
       "      <td>0</td>\n",
       "      <td>0</td>\n",
       "    </tr>\n",
       "    <tr>\n",
       "      <th>4</th>\n",
       "      <td>0</td>\n",
       "      <td>0</td>\n",
       "      <td>0</td>\n",
       "      <td>0</td>\n",
       "      <td>0</td>\n",
       "      <td>0</td>\n",
       "      <td>0</td>\n",
       "      <td>0</td>\n",
       "      <td>0</td>\n",
       "      <td>0</td>\n",
       "      <td>...</td>\n",
       "      <td>0</td>\n",
       "      <td>0</td>\n",
       "      <td>0</td>\n",
       "      <td>0</td>\n",
       "      <td>0</td>\n",
       "      <td>0</td>\n",
       "      <td>0</td>\n",
       "      <td>0</td>\n",
       "      <td>0</td>\n",
       "      <td>0</td>\n",
       "    </tr>\n",
       "    <tr>\n",
       "      <th>0</th>\n",
       "      <td>0</td>\n",
       "      <td>0</td>\n",
       "      <td>0</td>\n",
       "      <td>0</td>\n",
       "      <td>0</td>\n",
       "      <td>0</td>\n",
       "      <td>0</td>\n",
       "      <td>0</td>\n",
       "      <td>0</td>\n",
       "      <td>0</td>\n",
       "      <td>...</td>\n",
       "      <td>0</td>\n",
       "      <td>0</td>\n",
       "      <td>0</td>\n",
       "      <td>0</td>\n",
       "      <td>0</td>\n",
       "      <td>0</td>\n",
       "      <td>0</td>\n",
       "      <td>0</td>\n",
       "      <td>0</td>\n",
       "      <td>0</td>\n",
       "    </tr>\n",
       "  </tbody>\n",
       "</table>\n",
       "<p>5 rows × 784 columns</p>\n",
       "</div>"
      ],
      "text/plain": [
       "       pixel0  pixel1  pixel2  pixel3  pixel4  pixel5  pixel6  pixel7  pixel8  \\\n",
       "label                                                                           \n",
       "1           0       0       0       0       0       0       0       0       0   \n",
       "0           0       0       0       0       0       0       0       0       0   \n",
       "1           0       0       0       0       0       0       0       0       0   \n",
       "4           0       0       0       0       0       0       0       0       0   \n",
       "0           0       0       0       0       0       0       0       0       0   \n",
       "\n",
       "       pixel9  ...  pixel774  pixel775  pixel776  pixel777  pixel778  \\\n",
       "label          ...                                                     \n",
       "1           0  ...         0         0         0         0         0   \n",
       "0           0  ...         0         0         0         0         0   \n",
       "1           0  ...         0         0         0         0         0   \n",
       "4           0  ...         0         0         0         0         0   \n",
       "0           0  ...         0         0         0         0         0   \n",
       "\n",
       "       pixel779  pixel780  pixel781  pixel782  pixel783  \n",
       "label                                                    \n",
       "1             0         0         0         0         0  \n",
       "0             0         0         0         0         0  \n",
       "1             0         0         0         0         0  \n",
       "4             0         0         0         0         0  \n",
       "0             0         0         0         0         0  \n",
       "\n",
       "[5 rows x 784 columns]"
      ]
     },
     "execution_count": 3,
     "metadata": {},
     "output_type": "execute_result"
    }
   ],
   "source": [
    "path = 'train.csv'\n",
    "DFNN = pd.read_csv(path, index_col=0, header=0)\n",
    "DFNN.head()"
   ]
  },
  {
   "cell_type": "markdown",
   "id": "6c1d4042-b786-4ce8-9844-ba1bdc74d560",
   "metadata": {},
   "source": [
    "X-training features - convert these into Numpy arrays:"
   ]
  },
  {
   "cell_type": "code",
   "execution_count": 4,
   "id": "93ccb49e-e13a-4280-b7d0-0320f05eb1a6",
   "metadata": {},
   "outputs": [
    {
     "data": {
      "text/plain": [
       "(42000, 784)"
      ]
     },
     "execution_count": 4,
     "metadata": {},
     "output_type": "execute_result"
    }
   ],
   "source": [
    "X_train = DFNN.to_numpy()\n",
    "X_train.shape"
   ]
  },
  {
   "cell_type": "markdown",
   "id": "e42a7ce3-fb10-4b57-9d7b-62276e978457",
   "metadata": {},
   "source": [
    "Y-training values (the actual digit written):"
   ]
  },
  {
   "cell_type": "code",
   "execution_count": 5,
   "id": "2f376400-c33a-4236-aec0-64d056ddce74",
   "metadata": {},
   "outputs": [
    {
     "data": {
      "text/plain": [
       "array([1, 0, 1, ..., 7, 6, 9], dtype=int64)"
      ]
     },
     "execution_count": 5,
     "metadata": {},
     "output_type": "execute_result"
    }
   ],
   "source": [
    "Y_train = DFNN.index.values\n",
    "Y_train"
   ]
  },
  {
   "cell_type": "markdown",
   "id": "137fab67-bddd-47eb-a7e8-4961e4560a91",
   "metadata": {},
   "source": [
    "The test features - convert this into a Numpy array too:"
   ]
  },
  {
   "cell_type": "code",
   "execution_count": 6,
   "id": "d5d55be7-42d3-41d8-a0c1-d986e9f84f15",
   "metadata": {},
   "outputs": [
    {
     "data": {
      "text/html": [
       "<div>\n",
       "<style scoped>\n",
       "    .dataframe tbody tr th:only-of-type {\n",
       "        vertical-align: middle;\n",
       "    }\n",
       "\n",
       "    .dataframe tbody tr th {\n",
       "        vertical-align: top;\n",
       "    }\n",
       "\n",
       "    .dataframe thead th {\n",
       "        text-align: right;\n",
       "    }\n",
       "</style>\n",
       "<table border=\"1\" class=\"dataframe\">\n",
       "  <thead>\n",
       "    <tr style=\"text-align: right;\">\n",
       "      <th></th>\n",
       "      <th>pixel0</th>\n",
       "      <th>pixel1</th>\n",
       "      <th>pixel2</th>\n",
       "      <th>pixel3</th>\n",
       "      <th>pixel4</th>\n",
       "      <th>pixel5</th>\n",
       "      <th>pixel6</th>\n",
       "      <th>pixel7</th>\n",
       "      <th>pixel8</th>\n",
       "      <th>pixel9</th>\n",
       "      <th>...</th>\n",
       "      <th>pixel774</th>\n",
       "      <th>pixel775</th>\n",
       "      <th>pixel776</th>\n",
       "      <th>pixel777</th>\n",
       "      <th>pixel778</th>\n",
       "      <th>pixel779</th>\n",
       "      <th>pixel780</th>\n",
       "      <th>pixel781</th>\n",
       "      <th>pixel782</th>\n",
       "      <th>pixel783</th>\n",
       "    </tr>\n",
       "  </thead>\n",
       "  <tbody>\n",
       "    <tr>\n",
       "      <th>0</th>\n",
       "      <td>0</td>\n",
       "      <td>0</td>\n",
       "      <td>0</td>\n",
       "      <td>0</td>\n",
       "      <td>0</td>\n",
       "      <td>0</td>\n",
       "      <td>0</td>\n",
       "      <td>0</td>\n",
       "      <td>0</td>\n",
       "      <td>0</td>\n",
       "      <td>...</td>\n",
       "      <td>0</td>\n",
       "      <td>0</td>\n",
       "      <td>0</td>\n",
       "      <td>0</td>\n",
       "      <td>0</td>\n",
       "      <td>0</td>\n",
       "      <td>0</td>\n",
       "      <td>0</td>\n",
       "      <td>0</td>\n",
       "      <td>0</td>\n",
       "    </tr>\n",
       "    <tr>\n",
       "      <th>1</th>\n",
       "      <td>0</td>\n",
       "      <td>0</td>\n",
       "      <td>0</td>\n",
       "      <td>0</td>\n",
       "      <td>0</td>\n",
       "      <td>0</td>\n",
       "      <td>0</td>\n",
       "      <td>0</td>\n",
       "      <td>0</td>\n",
       "      <td>0</td>\n",
       "      <td>...</td>\n",
       "      <td>0</td>\n",
       "      <td>0</td>\n",
       "      <td>0</td>\n",
       "      <td>0</td>\n",
       "      <td>0</td>\n",
       "      <td>0</td>\n",
       "      <td>0</td>\n",
       "      <td>0</td>\n",
       "      <td>0</td>\n",
       "      <td>0</td>\n",
       "    </tr>\n",
       "    <tr>\n",
       "      <th>2</th>\n",
       "      <td>0</td>\n",
       "      <td>0</td>\n",
       "      <td>0</td>\n",
       "      <td>0</td>\n",
       "      <td>0</td>\n",
       "      <td>0</td>\n",
       "      <td>0</td>\n",
       "      <td>0</td>\n",
       "      <td>0</td>\n",
       "      <td>0</td>\n",
       "      <td>...</td>\n",
       "      <td>0</td>\n",
       "      <td>0</td>\n",
       "      <td>0</td>\n",
       "      <td>0</td>\n",
       "      <td>0</td>\n",
       "      <td>0</td>\n",
       "      <td>0</td>\n",
       "      <td>0</td>\n",
       "      <td>0</td>\n",
       "      <td>0</td>\n",
       "    </tr>\n",
       "    <tr>\n",
       "      <th>3</th>\n",
       "      <td>0</td>\n",
       "      <td>0</td>\n",
       "      <td>0</td>\n",
       "      <td>0</td>\n",
       "      <td>0</td>\n",
       "      <td>0</td>\n",
       "      <td>0</td>\n",
       "      <td>0</td>\n",
       "      <td>0</td>\n",
       "      <td>0</td>\n",
       "      <td>...</td>\n",
       "      <td>0</td>\n",
       "      <td>0</td>\n",
       "      <td>0</td>\n",
       "      <td>0</td>\n",
       "      <td>0</td>\n",
       "      <td>0</td>\n",
       "      <td>0</td>\n",
       "      <td>0</td>\n",
       "      <td>0</td>\n",
       "      <td>0</td>\n",
       "    </tr>\n",
       "    <tr>\n",
       "      <th>4</th>\n",
       "      <td>0</td>\n",
       "      <td>0</td>\n",
       "      <td>0</td>\n",
       "      <td>0</td>\n",
       "      <td>0</td>\n",
       "      <td>0</td>\n",
       "      <td>0</td>\n",
       "      <td>0</td>\n",
       "      <td>0</td>\n",
       "      <td>0</td>\n",
       "      <td>...</td>\n",
       "      <td>0</td>\n",
       "      <td>0</td>\n",
       "      <td>0</td>\n",
       "      <td>0</td>\n",
       "      <td>0</td>\n",
       "      <td>0</td>\n",
       "      <td>0</td>\n",
       "      <td>0</td>\n",
       "      <td>0</td>\n",
       "      <td>0</td>\n",
       "    </tr>\n",
       "  </tbody>\n",
       "</table>\n",
       "<p>5 rows × 784 columns</p>\n",
       "</div>"
      ],
      "text/plain": [
       "   pixel0  pixel1  pixel2  pixel3  pixel4  pixel5  pixel6  pixel7  pixel8  \\\n",
       "0       0       0       0       0       0       0       0       0       0   \n",
       "1       0       0       0       0       0       0       0       0       0   \n",
       "2       0       0       0       0       0       0       0       0       0   \n",
       "3       0       0       0       0       0       0       0       0       0   \n",
       "4       0       0       0       0       0       0       0       0       0   \n",
       "\n",
       "   pixel9  ...  pixel774  pixel775  pixel776  pixel777  pixel778  pixel779  \\\n",
       "0       0  ...         0         0         0         0         0         0   \n",
       "1       0  ...         0         0         0         0         0         0   \n",
       "2       0  ...         0         0         0         0         0         0   \n",
       "3       0  ...         0         0         0         0         0         0   \n",
       "4       0  ...         0         0         0         0         0         0   \n",
       "\n",
       "   pixel780  pixel781  pixel782  pixel783  \n",
       "0         0         0         0         0  \n",
       "1         0         0         0         0  \n",
       "2         0         0         0         0  \n",
       "3         0         0         0         0  \n",
       "4         0         0         0         0  \n",
       "\n",
       "[5 rows x 784 columns]"
      ]
     },
     "execution_count": 6,
     "metadata": {},
     "output_type": "execute_result"
    }
   ],
   "source": [
    "path = 'test.csv'\n",
    "DFTNN = pd.read_csv(path, index_col=None, header=0)\n",
    "DFTNN.head()"
   ]
  },
  {
   "cell_type": "code",
   "execution_count": 7,
   "id": "75c6e3ae-04be-4817-8260-274fd04ab607",
   "metadata": {},
   "outputs": [
    {
     "data": {
      "text/plain": [
       "(28000, 784)"
      ]
     },
     "execution_count": 7,
     "metadata": {},
     "output_type": "execute_result"
    }
   ],
   "source": [
    "X_test = DFTNN.to_numpy()\n",
    "X_test.shape"
   ]
  },
  {
   "cell_type": "markdown",
   "id": "928baa91-d277-480f-974b-ece055ec758e",
   "metadata": {},
   "source": [
    "The number of columns (pixels) is 784. This makes sense: 28*28 = 784."
   ]
  },
  {
   "cell_type": "markdown",
   "id": "a6c3a20e-5b31-4db8-b643-26751ea5b33c",
   "metadata": {},
   "source": [
    "#### Plot the handdrawn images from the training and testing data sets."
   ]
  },
  {
   "cell_type": "code",
   "execution_count": 8,
   "id": "5c1175fe-948e-4a6c-a27d-6f4631b5fc2b",
   "metadata": {},
   "outputs": [
    {
     "data": {
      "image/png": "[encoded data removed]",
      "text/plain": [
       "<Figure size 1000x500 with 10 Axes>"
      ]
     },
     "metadata": {},
     "output_type": "display_data"
    }
   ],
   "source": [
    "# Create a figure, set the figure height and size in inches.\n",
    "fig = plt.figure(figsize=(10, 5))\n",
    "fig.suptitle('Handwritten Digits')\n",
    "\n",
    "for i in range(10):\n",
    "    # subplot(nrows, ncols, index, **kwargs)\n",
    "    # Creates subplots for the figure. There will be nrows of rows and ncols of columns.\n",
    "    # index starts at 1 in the upper left corner and increases to the right. Note that 1-based indexing is used!\n",
    "    ax = plt.subplot(2, 5, i + 1)\n",
    "\n",
    "    # imshow(X, cmap)\n",
    "    # Displays the data as an image. The cmap will tell MATPLOTLIB what the data represents.\n",
    "    # If we specify cmap='gray', it'll know that the data is a matrix taking values from 0 to 255 and that each\n",
    "    # value represents a grayscale pixel intensity.\n",
    "    plt.imshow(X_train[i].reshape(28, 28), cmap='gray')\n",
    "\n",
    "    # Remove the axes.\n",
    "    plt.axis('off')\n",
    "\n",
    "plt.show()"
   ]
  },
  {
   "cell_type": "markdown",
   "id": "fd161ab7-0fb0-4429-9716-6c64f85b8c0a",
   "metadata": {},
   "source": [
    "### Use TensorFlow to Build and Train a Neural Network."
   ]
  },
  {
   "cell_type": "code",
   "execution_count": 9,
   "id": "785d7e16-3b78-473c-92bf-c5ce28c6821b",
   "metadata": {},
   "outputs": [],
   "source": [
    "from tensorflow.keras import Sequential\n",
    "from tensorflow.keras.layers import Dense"
   ]
  },
  {
   "cell_type": "markdown",
   "id": "0bd1a0b7-8a99-4440-beba-ac3169e310a7",
   "metadata": {},
   "source": [
    "The neural network will have 25 units in the first hidden layer, 15 in the second layer, and 10 in the output layer (corresponding to the number of digits available). \n",
    "<ul>\n",
    "    <li>First and second layers: ReLU activation functions will be used.</li>\n",
    "    <li>Output layer: Softmax activation function will be used.</li>\n",
    "    <li>In our neural network, we'll call a linear activation function in the output layer.</li>\n",
    "    <li>Idea: we'll use a linear activation function to train the output layer. When specifying the loss function in the <code>model.compile</code> line, we'll tell TensorFlow that we don't intend to normalize the output values from the output layer by specifying <code>from_logits=True</code>.</li>\n",
    "    <li>Then we'll predict y-values using the neural network and transform the y-values using the softmax function to get the probabilities of each digit being displayed.</li>\n",
    "</ul>"
   ]
  },
  {
   "cell_type": "markdown",
   "id": "140515a3-748f-4e7a-8a98-0f900d550ad7",
   "metadata": {},
   "source": [
    "Build a neural network model using the sequential function."
   ]
  },
  {
   "cell_type": "code",
   "execution_count": 10,
   "id": "c8da3e83-06d7-442f-8667-2111d51d843f",
   "metadata": {},
   "outputs": [],
   "source": [
    "model = Sequential([\n",
    "    tf.keras.layers.Dense(units=25, activation='relu'),\n",
    "    tf.keras.layers.Dense(units=15, activation='relu'),\n",
    "    tf.keras.layers.Dense(units=10, activation='linear')\n",
    "])"
   ]
  },
  {
   "cell_type": "markdown",
   "id": "4ad077c8-19f9-4af3-b40b-8006bf80e35a",
   "metadata": {},
   "source": [
    "Instantiate the model with the X_train features."
   ]
  },
  {
   "cell_type": "code",
   "execution_count": 11,
   "id": "c4e5ea69-831f-4288-be10-4d8fef34e35b",
   "metadata": {},
   "outputs": [
    {
     "name": "stdout",
     "output_type": "stream",
     "text": [
      "1313/1313 [==============================] - 3s 2ms/step\n"
     ]
    },
    {
     "data": {
      "text/plain": [
       "array([[  49.147266 ,   21.556442 ,  -53.383327 , ...,  -20.745497 ,\n",
       "          22.342957 ,    1.264698 ],\n",
       "       [   1.478183 ,    3.8122451,  -14.83219  , ...,  -41.61411  ,\n",
       "         -37.529526 ,  -13.527934 ],\n",
       "       [  18.556835 ,    9.856504 ,  -69.24047  , ...,  -52.215683 ,\n",
       "         -33.684517 ,  -55.639774 ],\n",
       "       ...,\n",
       "       [  38.053333 ,  -69.11126  ,  -59.451794 , ...,   -6.723429 ,\n",
       "        -164.55728  , -106.51646  ],\n",
       "       [  24.731607 ,   -4.375511 ,  -51.189266 , ...,  -49.414253 ,\n",
       "         -69.38232  ,  -93.19123  ],\n",
       "       [  50.15323  ,  -17.655499 ,  -44.07026  , ...,   -2.8219244,\n",
       "         -63.388447 ,  -68.33854  ]], dtype=float32)"
      ]
     },
     "execution_count": 11,
     "metadata": {},
     "output_type": "execute_result"
    }
   ],
   "source": [
    "model.predict(X_train)"
   ]
  },
  {
   "cell_type": "markdown",
   "id": "ddf4ff18-57cd-4093-b193-1ce8fb3b09e2",
   "metadata": {},
   "source": [
    "Then create the corresponding loss function using TensorFlow.\n",
    "<font color='red'>Question: Explanation of the Adam optimizer needed - I'll check this up later.</font>"
   ]
  },
  {
   "cell_type": "code",
   "execution_count": 12,
   "id": "1d5333bc-4b70-4103-9754-736f1ce7bae4",
   "metadata": {},
   "outputs": [],
   "source": [
    "model.compile(loss=tf.keras.losses.SparseCategoricalCrossentropy(from_logits=True),\n",
    "    optimizer=tf.keras.optimizers.Adam(0.001),)"
   ]
  },
  {
   "cell_type": "markdown",
   "id": "ec44a577-70e1-481e-ba58-f3e7c7e7e4d0",
   "metadata": {},
   "source": [
    "Train the model using 10 epochs. Remember that there are 42000 training examples. Tensorflow divides the 42000 examples into batches of 32 training examples. Each epoch will therefore require 42000/32 = 1313 iterations of gradient descent to cover all the examples."
   ]
  },
  {
   "cell_type": "code",
   "execution_count": 13,
   "id": "0e27642a-6fc2-43ca-a754-7f063eddd982",
   "metadata": {},
   "outputs": [
    {
     "name": "stdout",
     "output_type": "stream",
     "text": [
      "Epoch 1/10\n",
      "1313/1313 [==============================] - 4s 3ms/step - loss: 2.1459\n",
      "Epoch 2/10\n",
      "1313/1313 [==============================] - 3s 2ms/step - loss: 0.9126\n",
      "Epoch 3/10\n",
      "1313/1313 [==============================] - 3s 2ms/step - loss: 0.7130\n",
      "Epoch 4/10\n",
      "1313/1313 [==============================] - 4s 3ms/step - loss: 0.5618\n",
      "Epoch 5/10\n",
      "1313/1313 [==============================] - 3s 2ms/step - loss: 0.4866\n",
      "Epoch 6/10\n",
      "1313/1313 [==============================] - 3s 3ms/step - loss: 0.4239\n",
      "Epoch 7/10\n",
      "1313/1313 [==============================] - 3s 3ms/step - loss: 0.3917\n",
      "Epoch 8/10\n",
      "1313/1313 [==============================] - 3s 3ms/step - loss: 0.3582\n",
      "Epoch 9/10\n",
      "1313/1313 [==============================] - 3s 3ms/step - loss: 0.3289\n",
      "Epoch 10/10\n",
      "1313/1313 [==============================] - 3s 2ms/step - loss: 0.3025\n"
     ]
    },
    {
     "data": {
      "text/plain": [
       "<keras.src.callbacks.History at 0x24f206702d0>"
      ]
     },
     "execution_count": 13,
     "metadata": {},
     "output_type": "execute_result"
    }
   ],
   "source": [
    "model.fit(X_train, Y_train, epochs=10)"
   ]
  },
  {
   "cell_type": "markdown",
   "id": "38077518-e5c1-4af9-a514-b82ab7cc709f",
   "metadata": {},
   "source": [
    "Now let's check the results. Enter the X_train feature into the model and determine the corresponding values."
   ]
  },
  {
   "cell_type": "code",
   "execution_count": 14,
   "id": "23b3cc74-5a87-4bd6-90b5-114dabd55102",
   "metadata": {},
   "outputs": [
    {
     "name": "stdout",
     "output_type": "stream",
     "text": [
      "1313/1313 [==============================] - 3s 2ms/step\n"
     ]
    }
   ],
   "source": [
    "y = model.predict(X_train)"
   ]
  },
  {
   "cell_type": "code",
   "execution_count": 15,
   "id": "7aa1e315-d1d7-4c5a-ae12-6e81dd6fb7bd",
   "metadata": {},
   "outputs": [
    {
     "data": {
      "text/plain": [
       "(42000, 10)"
      ]
     },
     "execution_count": 15,
     "metadata": {},
     "output_type": "execute_result"
    }
   ],
   "source": [
    "y.shape"
   ]
  },
  {
   "cell_type": "code",
   "execution_count": 16,
   "id": "821b8f78-1331-4aa8-bca8-3c002fb40e71",
   "metadata": {},
   "outputs": [
    {
     "data": {
      "text/plain": [
       "array([[  -1.8847195 ,   81.051674  ,   29.563692  ,   48.650608  ,\n",
       "        -101.06622   ,   44.322002  ,   20.866716  ,   16.785315  ,\n",
       "          58.283974  ,    8.13193   ],\n",
       "       [  11.34682   ,   -1.0616806 ,    4.71776   ,    1.1175833 ,\n",
       "          -5.479232  ,    2.3218546 ,    2.444999  ,    5.5369654 ,\n",
       "          -6.341993  ,    0.5328401 ],\n",
       "       [  -1.0368154 ,   20.553795  ,    7.0789404 ,   -0.50035185,\n",
       "          -9.794755  ,    4.963808  ,    0.22616637,    2.502416  ,\n",
       "          -3.0900187 ,  -19.525541  ],\n",
       "       [   0.6806364 ,   -0.57088923,    1.5965211 ,    1.2903421 ,\n",
       "           3.4514363 ,    1.2383629 ,    0.69757533,   -1.0932673 ,\n",
       "           5.029261  ,    1.9612678 ],\n",
       "       [  15.212551  ,   -1.3665327 ,    6.647828  ,    1.4896224 ,\n",
       "          -7.5211945 ,    2.9702098 ,    3.7318847 ,    7.818839  ,\n",
       "          -9.493498  ,    0.57986003]], dtype=float32)"
      ]
     },
     "execution_count": 16,
     "metadata": {},
     "output_type": "execute_result"
    }
   ],
   "source": [
    "y[0:5,:]"
   ]
  },
  {
   "cell_type": "markdown",
   "id": "8d54e9c5-f847-4a7e-a00b-2fcf3f2af08b",
   "metadata": {},
   "source": [
    "Notice that the values above aren't probabilities. We'll have to convert these into probabilities using the softmax function:"
   ]
  },
  {
   "cell_type": "code",
   "execution_count": 17,
   "id": "b4d9debf-a6d9-4702-bae9-49fbdbe4275d",
   "metadata": {},
   "outputs": [],
   "source": [
    "sm = tf.nn.softmax(y).numpy()"
   ]
  },
  {
   "cell_type": "code",
   "execution_count": 18,
   "id": "689e2d5f-aaf6-4877-850b-98fe595c8387",
   "metadata": {},
   "outputs": [
    {
     "data": {
      "text/plain": [
       "(42000, 10)"
      ]
     },
     "execution_count": 18,
     "metadata": {},
     "output_type": "execute_result"
    }
   ],
   "source": [
    "sm.shape"
   ]
  },
  {
   "cell_type": "code",
   "execution_count": 19,
   "id": "0f958731-0e0e-4cdc-9dfa-a9be761f1f17",
   "metadata": {},
   "outputs": [
    {
     "data": {
      "text/plain": [
       "array([[9.5759491e-37, 1.0000000e+00, 4.3556482e-23, 8.4800009e-15,\n",
       "        0.0000000e+00, 1.1181662e-16, 7.2778689e-27, 1.2287841e-28,\n",
       "        1.2945341e-10, 2.1446505e-32],\n",
       "       [9.9538523e-01, 4.0648806e-06, 1.3153070e-03, 3.5932728e-05,\n",
       "        4.9037666e-08, 1.1981152e-04, 1.3551251e-04, 2.9840318e-03,\n",
       "        2.0693676e-08, 2.0023468e-05],\n",
       "       [4.2006484e-10, 9.9999845e-01, 1.4058676e-06, 7.1829026e-10,\n",
       "        6.6037711e-14, 1.6957199e-07, 1.4853273e-09, 1.4467229e-08,\n",
       "        5.3904044e-11, 3.9243156e-18],\n",
       "       [9.4786109e-03, 2.7115282e-03, 2.3686908e-02, 1.7439600e-02,\n",
       "        1.5138672e-01, 1.6556257e-02, 9.6405335e-03, 1.6082295e-03,\n",
       "        7.3337889e-01, 3.4112684e-02],\n",
       "       [9.9917811e-01, 6.3014149e-08, 1.9055966e-04, 1.0961010e-06,\n",
       "        1.3381435e-10, 4.8179440e-06, 1.0319365e-05, 6.1460288e-04,\n",
       "        1.8618392e-11, 4.4131204e-07]], dtype=float32)"
      ]
     },
     "execution_count": 19,
     "metadata": {},
     "output_type": "execute_result"
    }
   ],
   "source": [
    "sm[0:5,:]"
   ]
  },
  {
   "cell_type": "markdown",
   "id": "9562f772-db44-43e7-8486-cde9df2add7c",
   "metadata": {},
   "source": [
    "The matrix sm contains the probabilities that each training example represents a given digit. For instance:\n",
    "<code>np.array([[0 1 0 0 0 0 0 0 0 0], [1 0 0 0 0 0 0 0 0 0]])</code>\n",
    "The first training example is a 1, the second is a 0."
   ]
  },
  {
   "cell_type": "markdown",
   "id": "5ed3db8f-bb09-4901-bd82-695cfdb7a67e",
   "metadata": {},
   "source": [
    "For each row in the numpy array sm, let's determine the index of the '1' value."
   ]
  },
  {
   "cell_type": "code",
   "execution_count": 20,
   "id": "f675954a-4f61-42d2-998b-a9e200728fe5",
   "metadata": {},
   "outputs": [
    {
     "data": {
      "text/plain": [
       "(42000,)"
      ]
     },
     "execution_count": 20,
     "metadata": {},
     "output_type": "execute_result"
    }
   ],
   "source": [
    "labels = np.argmax(sm, axis=1)\n",
    "labels.shape"
   ]
  },
  {
   "cell_type": "code",
   "execution_count": 21,
   "id": "2ffe29cf-6194-4015-adf0-f0d7d19d563b",
   "metadata": {},
   "outputs": [
    {
     "data": {
      "text/plain": [
       "array([1, 0, 1, ..., 7, 6, 9], dtype=int64)"
      ]
     },
     "execution_count": 21,
     "metadata": {},
     "output_type": "execute_result"
    }
   ],
   "source": [
    "labels"
   ]
  },
  {
   "cell_type": "markdown",
   "id": "401ab6fc-0245-463f-8799-41aa128dd789",
   "metadata": {},
   "source": [
    "Let's compare the predicted values with the handwritten digits."
   ]
  },
  {
   "cell_type": "code",
   "execution_count": 22,
   "id": "60cc6f56-a50b-4334-b7c9-c0c7b329d92d",
   "metadata": {},
   "outputs": [
    {
     "data": {
      "image/png": "[encoded data removed]",
      "text/plain": [
       "<Figure size 2000x600 with 10 Axes>"
      ]
     },
     "metadata": {},
     "output_type": "display_data"
    }
   ],
   "source": [
    "# Set the size of the figure.\n",
    "fig = plt.figure(figsize=(20, 6))\n",
    "list = np.arange(0,10,1)\n",
    "\n",
    "# Set the title of the figure.\n",
    "fig.suptitle(\"Handwritten Digits, With Neural Network Predictions Above Each Image\")\n",
    "for i in list:\n",
    "    # subplot(nrows, ncols, index, **kwargs)\n",
    "    # Creates subplots for the figure. There will be nrows of rows and ncols of columns.\n",
    "    # index starts at 1 in the upper left corner and increases to the right. Note that 1-based indexing is used!\n",
    "    plt.subplot(2, 5, i+1)\n",
    "\n",
    "    # imshow(X, cmap)\n",
    "    # Displays the data as an image. The cmap will tell MATPLOTLIB what the data represents.\n",
    "    # If we specify cmap='gray', it'll know that the data is a matrix taking values from 0 to 255 and that each\n",
    "    # value represents a grayscale pixel intensity.\n",
    "    plt.imshow(X_train[i+20].reshape(28,28), cmap='gray')\n",
    "    plt.title(labels[i+20])\n",
    "\n",
    "    # Remove the axes.\n",
    "    plt.axis('off')\n",
    "\n",
    "plt.show()"
   ]
  },
  {
   "cell_type": "markdown",
   "id": "e6233b33-8864-4db6-b645-8b2e994f532b",
   "metadata": {},
   "source": [
    "Now let's make predictions using the test data."
   ]
  },
  {
   "cell_type": "code",
   "execution_count": 23,
   "id": "c6362fd8-02df-4dc8-92e4-30d779705490",
   "metadata": {},
   "outputs": [
    {
     "name": "stdout",
     "output_type": "stream",
     "text": [
      "875/875 [==============================] - 2s 2ms/step\n"
     ]
    }
   ],
   "source": [
    "yhat2 = model.predict(X_test)"
   ]
  },
  {
   "cell_type": "markdown",
   "id": "ad392dd4-8c90-46b6-8649-eb120acc6339",
   "metadata": {},
   "source": [
    "Convert yhat2 values into probabilities using the softmax function."
   ]
  },
  {
   "cell_type": "code",
   "execution_count": 24,
   "id": "abe8038c-95d7-4959-92a5-c278239fa0ed",
   "metadata": {},
   "outputs": [],
   "source": [
    "sm2 = tf.nn.softmax(yhat2).numpy()"
   ]
  },
  {
   "cell_type": "code",
   "execution_count": 25,
   "id": "25e1092b-667f-48a9-bc07-be79cbf4d06d",
   "metadata": {},
   "outputs": [
    {
     "data": {
      "text/plain": [
       "(28000, 10)"
      ]
     },
     "execution_count": 25,
     "metadata": {},
     "output_type": "execute_result"
    }
   ],
   "source": [
    "sm2.shape"
   ]
  },
  {
   "cell_type": "code",
   "execution_count": 26,
   "id": "70993c2a-d033-435d-9410-1c5b462b6709",
   "metadata": {},
   "outputs": [
    {
     "data": {
      "text/plain": [
       "array([[3.9572031e-12, 7.7532914e-06, 9.9989128e-01, 7.5998534e-05,\n",
       "        4.5675304e-22, 1.9232596e-09, 1.3670261e-18, 2.4906023e-05,\n",
       "        5.1080931e-09, 6.0162136e-23],\n",
       "       [9.9968541e-01, 5.7925464e-09, 6.2958512e-05, 1.4844123e-07,\n",
       "        4.5508922e-12, 7.6428745e-07, 2.3593022e-06, 2.4835640e-04,\n",
       "        3.3551165e-13, 4.9619405e-08],\n",
       "       [1.7513848e-04, 7.3030032e-03, 6.9399009e-04, 2.5933703e-02,\n",
       "        5.7778925e-02, 1.2658915e-03, 2.2757888e-06, 2.0818314e-02,\n",
       "        2.7775932e-02, 8.5825282e-01],\n",
       "       [2.0710722e-05, 2.5577878e-04, 3.3090024e-03, 1.4264271e-02,\n",
       "        7.6201797e-01, 1.2458656e-03, 9.3433761e-07, 2.2351226e-02,\n",
       "        8.2248740e-04, 1.9571173e-01],\n",
       "       [1.6734630e-03, 1.5679271e-03, 3.2133204e-01, 6.6700709e-01,\n",
       "        1.9075203e-03, 4.0220129e-03, 3.3607705e-07, 2.4759981e-03,\n",
       "        1.3553332e-05, 8.1405069e-08]], dtype=float32)"
      ]
     },
     "execution_count": 26,
     "metadata": {},
     "output_type": "execute_result"
    }
   ],
   "source": [
    "sm2[0:5,:]"
   ]
  },
  {
   "cell_type": "code",
   "execution_count": 27,
   "id": "e4199026-a290-4f46-8c59-ebf47d521df9",
   "metadata": {},
   "outputs": [],
   "source": [
    "labels2 = np.argmax(sm2, axis=1)"
   ]
  },
  {
   "cell_type": "code",
   "execution_count": 28,
   "id": "8bf0bcf1-4504-4286-9894-097ea4e8e512",
   "metadata": {},
   "outputs": [
    {
     "data": {
      "image/png": "[encoded data removed]",
      "text/plain": [
       "<Figure size 1000x600 with 10 Axes>"
      ]
     },
     "metadata": {},
     "output_type": "display_data"
    }
   ],
   "source": [
    "plt.figure(figsize=(10, 6))\n",
    "for i in range(10):\n",
    "    # subplot(nrows, ncols, index, **kwargs)\n",
    "    # Creates subplots for the figure. There will be nrows of rows and ncols of columns.\n",
    "    # index starts at 1 in the upper left corner and increases to the right. Note that 1-based indexing is used!\n",
    "    plt.subplot(2, 5, i + 1)\n",
    "\n",
    "    # imshow(X, cmap)\n",
    "    # Displays the data as an image. The cmap will tell MATPLOTLIB what the data represents.\n",
    "    # If we specify cmap='gray', it'll know that the data is a matrix taking values from 0 to 255 and that each\n",
    "    # value represents a grayscale pixel intensity.\n",
    "    plt.imshow(X_test[i+20].reshape(28,28), cmap='gray')\n",
    "    plt.title(labels2[i+20])\n",
    "\n",
    "    # Remove the axes.\n",
    "    plt.axis('off')\n",
    "\n",
    "plt.show()"
   ]
  },
  {
   "cell_type": "code",
   "execution_count": 34,
   "id": "9ea3064b-c19b-4796-b0c0-6aa6e077c0ea",
   "metadata": {},
   "outputs": [
    {
     "name": "stdout",
     "output_type": "stream",
     "text": [
      "Number of training examples guessed incorrectly:  2964\n",
      "Number of training examples guessed correctly:  39036\n",
      "Percent accuracy: 92.94285714285714 %\n"
     ]
    }
   ],
   "source": [
    "print(\"Number of training examples guessed incorrectly: \", (Y_train != labels).sum())\n",
    "print(\"Number of training examples guessed correctly: \", (Y_train == labels).sum())\n",
    "print(f'Percent accuracy: {(((Y_train == labels).sum())/((Y_train == labels).sum()+(Y_train != labels).sum())*100)} %')"
   ]
  },
  {
   "cell_type": "code",
   "execution_count": null,
   "id": "e88e83ec-092c-42ec-b28c-75b65d32477c",
   "metadata": {},
   "outputs": [],
   "source": []
  },
  {
   "cell_type": "markdown",
   "id": "f6c762e5-8c09-4ec9-9c72-32ae13ee1ca9",
   "metadata": {},
   "source": [
    "## Let's Re-implement the Same Neural Network In Python\n",
    "i.e. No TensorFlow, Numpy Only."
   ]
  },
  {
   "cell_type": "markdown",
   "id": "3f30f2f5-d3d8-4b64-a222-219a9668b859",
   "metadata": {},
   "source": [
    "#### Forward Propagation:"
   ]
  },
  {
   "cell_type": "markdown",
   "id": "773d344b-8236-478c-9ef2-9edaba13328e",
   "metadata": {},
   "source": [
    "##### 1st, let's create a function that defines the neural network."
   ]
  },
  {
   "cell_type": "code",
   "execution_count": 34,
   "id": "84389d32-8b3c-4dd6-be80-3b5a50cc8061",
   "metadata": {},
   "outputs": [],
   "source": [
    "def forwardprop_NM(X, W1, b1, W2, b2, W3, b3, dense_RELU, dense_SOFTMAX):\n",
    "    \"\"\"\n",
    "    Applies the forward propagation algorithm of the given neural network onto the training examples.\n",
    "    Args:\n",
    "    X (ndarray (m, n)) : the feature of training examples. m = # of training examples, n = # of features. \n",
    "                         In our case, X is a (42000, 784) Numpy array.\n",
    "    W1 (ndarray (n, p)) : the parameter matrix for the first layer. n = # of features, p = # of neurons of given layer.\n",
    "    b1 (ndarray (p, 1)) : the parameter vector for the first layer. p = # of neurons of given layer.\n",
    "    W2, b2 : the parameter matrix and vector for the second layer.\n",
    "    dense_RELU : a function that computes the output row vector of each hidden layer using the RELU function.\n",
    "    dense_SOFTMAX :  a function that computes the output row vector of the output layer using the SOFTMAX function.\n",
    "    \n",
    "    Returns:\n",
    "    a3 (nd array (10,)) : a row vector consisting of the probabilities that y = 0, y = 1, ... y = 9\n",
    "    \"\"\"\n",
    "    a1, z1 = dense_RELU(X, W1, b1, relu)\n",
    "    a2, z2 = dense_RELU(a1, W2, b2, relu)\n",
    "    a3, z3 = dense_SOFTMAX(a2, W3, b3, softmax)\n",
    "    \n",
    "    return a3, z3, a2, z2, a1, z1"
   ]
  },
  {
   "cell_type": "markdown",
   "id": "f97c5f70-099c-41d8-8483-478631aaca70",
   "metadata": {},
   "source": [
    "##### 2nd, let's define the RELU function."
   ]
  },
  {
   "cell_type": "code",
   "execution_count": 35,
   "id": "46a976e8-8a88-4168-b8ae-e435b049ff15",
   "metadata": {},
   "outputs": [],
   "source": [
    "def relu(z):\n",
    "    \"\"\"\n",
    "    Computes an output value using the RELU function\n",
    "    Args:\n",
    "    z (ndarray (m,n)) : an input numpy array.\n",
    "\n",
    "    Returns:\n",
    "    np.maximum(0,z) (ndarray (m,n)) : Relu(z)\n",
    "    \"\"\"\n",
    "    return np.maximum(0,z)"
   ]
  },
  {
   "cell_type": "markdown",
   "id": "c4c6b829-c765-4292-ab2a-7b83dd7d057c",
   "metadata": {},
   "source": [
    "Check that the RELU function works."
   ]
  },
  {
   "cell_type": "code",
   "execution_count": 36,
   "id": "54bd5539-a84e-4a04-a239-6c8b97940fe7",
   "metadata": {},
   "outputs": [
    {
     "data": {
      "text/plain": [
       "array([[-1,  0,  1,  2,  3,  4],\n",
       "       [-2, -1,  0,  1,  2,  3]])"
      ]
     },
     "execution_count": 36,
     "metadata": {},
     "output_type": "execute_result"
    }
   ],
   "source": [
    "r = np.array([[-1, 0, 1, 2, 3, 4], [-2, -1, 0, 1, 2, 3]])\n",
    "r"
   ]
  },
  {
   "cell_type": "code",
   "execution_count": 37,
   "id": "576f5ac8-ad9f-4218-bd5c-0b307ca51424",
   "metadata": {},
   "outputs": [
    {
     "data": {
      "text/plain": [
       "array([[0, 0, 1, 2, 3, 4],\n",
       "       [0, 0, 0, 1, 2, 3]])"
      ]
     },
     "execution_count": 37,
     "metadata": {},
     "output_type": "execute_result"
    }
   ],
   "source": [
    "relu(r) # Matches the expected result!"
   ]
  },
  {
   "cell_type": "markdown",
   "id": "e1786177-30a6-45c4-898b-ca750dbd39af",
   "metadata": {},
   "source": [
    "##### 3rd, let's define the dense_RELU function."
   ]
  },
  {
   "cell_type": "code",
   "execution_count": 38,
   "id": "3daa5856-644a-4d88-b290-1bc889f63fad",
   "metadata": {},
   "outputs": [],
   "source": [
    "def dense_RELU(X, W, b, relu):\n",
    "    \"\"\"\n",
    "    Computes a matrix 'a' whose rows correspond to the output row vector of a training example for the given neural network layer.\n",
    "    Args:\n",
    "    X (ndarray (m,n)) : the feature matrix or the input matrix of the given layer. m = # of training examples, n = # of features (if \n",
    "                        the feature matrix is the input) or # of units from the previous layer (if the input matrix is the output matrix\n",
    "                        of the previous hidden layer).\n",
    "    W (ndarray (n,p)) : the parameter matrix. n = # of features or the # of units from the previous layer. p = # of units of the given \n",
    "                        hidden layer.\n",
    "    b (ndarray (p,)) : the parameter row vector. p = # of units of the given hidden layer\n",
    "    relu  : the relu activation function\n",
    "\n",
    "    Returns:\n",
    "    a_out (ndarray (m,p)) : the output matrix of the given hidden layer. Each row is the output row vector of a given example.\n",
    "    \"\"\"\n",
    "    z_out = np.matmul(X,W)+b\n",
    "    a_out = relu(z_out)\n",
    "    \n",
    "    return a_out, z_out\n",
    "    \n",
    "    "
   ]
  },
  {
   "cell_type": "markdown",
   "id": "eaa5536c-1ff0-43c0-b4b9-d60aeccbb02c",
   "metadata": {},
   "source": [
    "Check that the function above is defined properly:"
   ]
  },
  {
   "cell_type": "code",
   "execution_count": 39,
   "id": "4c7b7ddc-e145-4b95-b12d-0d346f57a38b",
   "metadata": {},
   "outputs": [
    {
     "data": {
      "text/plain": [
       "array([[11, 11],\n",
       "       [ 5,  5]])"
      ]
     },
     "execution_count": 39,
     "metadata": {},
     "output_type": "execute_result"
    }
   ],
   "source": [
    "r = np.array([[-1, 0, 1, 2, 3, 4], [-2, -1, 0, 1, 2, 3]]) # m = 2 examples, n = 6 features\n",
    "W = np.array([[1, 1], [1, 1], [1, 1], [1, 1], [1, 1], [1, 1]]) # n = 6 features, p = 2 units\n",
    "b = np.array([2, 2]) # p = 2 units\n",
    "\n",
    "result = relu(np.matmul(r,W)+b)\n",
    "result # should result in a m = 2 examples x p = 2 units matrix."
   ]
  },
  {
   "cell_type": "code",
   "execution_count": 40,
   "id": "264f5f66-bdc2-4687-8857-4283a655311e",
   "metadata": {},
   "outputs": [
    {
     "data": {
      "text/plain": [
       "array([[11, 11],\n",
       "       [ 5,  5]])"
      ]
     },
     "execution_count": 40,
     "metadata": {},
     "output_type": "execute_result"
    }
   ],
   "source": [
    "check, z = dense_RELU(r,W,b,relu)\n",
    "check"
   ]
  },
  {
   "cell_type": "markdown",
   "id": "55922d02-4357-4c78-a9c6-c6a2eede98b9",
   "metadata": {},
   "source": [
    "##### 4th, define the softmax function."
   ]
  },
  {
   "cell_type": "code",
   "execution_count": 41,
   "id": "87c0af51-0822-4986-a708-18637a4b91a6",
   "metadata": {},
   "outputs": [],
   "source": [
    "def softmax(z):\n",
    "    \"\"\"\n",
    "    Computes an output value using the SOFTMAX function\n",
    "    Args:\n",
    "    z (ndarray (m,n)) : an input numpy array.\n",
    "\n",
    "    Returns:\n",
    "    np.maximum(0,z) (ndarray (m,n)) : Relu(z)\n",
    "    \"\"\"\n",
    "    return np.exp(z)/np.exp(z).sum(axis=1)[:,None]"
   ]
  },
  {
   "cell_type": "markdown",
   "id": "3ba8b979-5cc6-4729-a197-59a20bbd8ac9",
   "metadata": {},
   "source": [
    "Check if the function is defined properly:"
   ]
  },
  {
   "cell_type": "code",
   "execution_count": 42,
   "id": "42857dea-b217-4a1d-99db-8af9d7379e8a",
   "metadata": {},
   "outputs": [
    {
     "data": {
      "text/plain": [
       "array([[-1,  0,  1,  2,  3,  4],\n",
       "       [ 0, -1,  0,  2,  2,  5]])"
      ]
     },
     "execution_count": 42,
     "metadata": {},
     "output_type": "execute_result"
    }
   ],
   "source": [
    "r = np.array([[-1, 0, 1, 2, 3, 4], [0, -1, 0, 2, 2, 5]])\n",
    "r"
   ]
  },
  {
   "cell_type": "code",
   "execution_count": 43,
   "id": "da3f44af-7890-4a48-a263-042f50f1ade0",
   "metadata": {},
   "outputs": [
    {
     "name": "stdout",
     "output_type": "stream",
     "text": [
      "[0.00426978 0.01160646 0.03154963 0.08576079 0.23312201 0.63369132]\n",
      "[0.00604014 0.00222204 0.00604014 0.04463091 0.04463091 0.89643586]\n"
     ]
    }
   ],
   "source": [
    "# row 1\n",
    "SUM1 = sum(np.exp(r[0,:]))\n",
    "\n",
    "# row 2\n",
    "SUM2 = sum(np.exp(r[1,:]))\n",
    "\n",
    "Row1 = (np.exp(r[0,:]))/SUM1\n",
    "Row2 = (np.exp(r[1,:]))/SUM2\n",
    "print(Row1)\n",
    "print(Row2)"
   ]
  },
  {
   "cell_type": "code",
   "execution_count": 44,
   "id": "802813dd-545d-4338-9bd0-582b411bdd96",
   "metadata": {},
   "outputs": [
    {
     "data": {
      "text/plain": [
       "array([[0.00426978, 0.01160646, 0.03154963, 0.08576079, 0.23312201,\n",
       "        0.63369132],\n",
       "       [0.00604014, 0.00222204, 0.00604014, 0.04463091, 0.04463091,\n",
       "        0.89643586]])"
      ]
     },
     "execution_count": 44,
     "metadata": {},
     "output_type": "execute_result"
    }
   ],
   "source": [
    "softmax(r)"
   ]
  },
  {
   "cell_type": "markdown",
   "id": "99d9a2f7-0f56-4295-88e9-1204a14014fc",
   "metadata": {},
   "source": [
    "##### 5th, define the dense_SOFTMAX function."
   ]
  },
  {
   "cell_type": "code",
   "execution_count": 45,
   "id": "c5bfaf51-3039-4f8d-bb24-c25683627133",
   "metadata": {},
   "outputs": [],
   "source": [
    "def dense_SOFTMAX(X, W, b, softmax):\n",
    "    \"\"\"\n",
    "    Computes a matrix 'a' whose rows correspond to the output row vector of a training example for the given neural network layer.\n",
    "    Args:\n",
    "    X (ndarray (m,n)) : the input matrix of the given layer. m = # of training examples, n = # of units from the previous layer\n",
    "                        (if the input matrix is the output matrix of the previous hidden layer).\n",
    "    W (ndarray (n,p)) : the parameter matrix. n = # of features or the # of units from the previous layer. p = # of units of the given \n",
    "                        hidden layer.\n",
    "    b (ndarray (p,)) : the parameter row vector. p = # of units of the given hidden layer\n",
    "    softmax  : the softmax activation function\n",
    "\n",
    "    Returns:\n",
    "    a_out (ndarray (m,p)) : the output matrix of the given hidden layer. Each row is the output row vector of a given example.\n",
    "    \"\"\"\n",
    "    z_out = np.matmul(X,W)+b\n",
    "    a_out = softmax(z_out)\n",
    "    \n",
    "    return a_out, z_out"
   ]
  },
  {
   "cell_type": "markdown",
   "id": "f862fabe-1592-405a-b685-f2b8639ed74a",
   "metadata": {},
   "source": [
    "##### 6th, apply forward propagation to the training set. Use dummy matrices for W and b."
   ]
  },
  {
   "cell_type": "markdown",
   "id": "68b5a60d-cb25-48e9-93f6-2b0a1e32509c",
   "metadata": {},
   "source": [
    "Set the W and b parameter matrices to small dummy values. Use the numpy random.randn random number generator to obtain random values. Subtract by 0.5 to reduce the size of the matrix - note I heard about this online and need more backup regarding this..."
   ]
  },
  {
   "cell_type": "code",
   "execution_count": 69,
   "id": "23dc8782-0e7f-44c8-8acb-a6838d51dc10",
   "metadata": {},
   "outputs": [
    {
     "data": {
      "text/plain": [
       "(42000, 10)"
      ]
     },
     "execution_count": 69,
     "metadata": {},
     "output_type": "execute_result"
    }
   ],
   "source": [
    "units1=25\n",
    "units2 = 15\n",
    "units_out = 10\n",
    "\n",
    "#X_tee = np.array([[0, 0, 2, 0, 3, 0, 0, 1], [0, 1, 2, 3, 4, 0, 3, 0]])\n",
    "W1 = np.random.randn(X_train.shape[1], units1) - 0.5\n",
    "b1 = np.random.randn(units1,) - 0.5\n",
    "W2 = np.random.randn(units1, units2) - 0.5\n",
    "b2 = np.random.randn(units2,) - 0.5\n",
    "W3 = np.random.randn(units2, units_out) - 0.5\n",
    "b3 = np.random.randn(units_out,) - 0.5\n",
    "\n",
    "a3, z3, a2, z2, a1, z1 = forwardprop_NM(X_train, W1, b1, W2, b2, W3, b3, dense_RELU, dense_SOFTMAX)\n",
    "a3.shape\n"
   ]
  },
  {
   "cell_type": "markdown",
   "id": "c8115158-5cb8-4dc5-86fe-38cc4b676038",
   "metadata": {},
   "source": [
    "Let's check to ensure that our function is correct."
   ]
  },
  {
   "cell_type": "markdown",
   "id": "b7eb9da5-9344-4824-8020-6092a2eecae0",
   "metadata": {},
   "source": [
    "Function output:"
   ]
  },
  {
   "cell_type": "code",
   "execution_count": 70,
   "id": "06996ca6-6b91-4ad2-9b03-2af7206ca58e",
   "metadata": {
    "scrolled": true
   },
   "outputs": [
    {
     "data": {
      "text/plain": [
       "array([[1.09536162e-06, 4.96582834e-05, 3.07214572e-02, 3.71954473e-04,\n",
       "        8.19727334e-01, 1.97815972e-02, 1.21835927e-01, 2.33377971e-03,\n",
       "        2.79338799e-03, 2.38380802e-03],\n",
       "       [1.09536162e-06, 4.96582834e-05, 3.07214572e-02, 3.71954473e-04,\n",
       "        8.19727334e-01, 1.97815972e-02, 1.21835927e-01, 2.33377971e-03,\n",
       "        2.79338799e-03, 2.38380802e-03]])"
      ]
     },
     "execution_count": 70,
     "metadata": {},
     "output_type": "execute_result"
    }
   ],
   "source": [
    "a3[0:2,:]"
   ]
  },
  {
   "cell_type": "code",
   "execution_count": 73,
   "id": "b202a6aa-1cd6-4f01-9687-93f65942495f",
   "metadata": {},
   "outputs": [
    {
     "data": {
      "text/plain": [
       "(42000, 15)"
      ]
     },
     "execution_count": 73,
     "metadata": {},
     "output_type": "execute_result"
    }
   ],
   "source": [
    "a2.shape"
   ]
  },
  {
   "cell_type": "markdown",
   "id": "48ca4f59-dd08-4cbb-a4ec-3b994dbb0b29",
   "metadata": {},
   "source": [
    "Let's calculate a3 using the dense_RELU, dense_SOFTMAX functions. The final result matches what we calculated above."
   ]
  },
  {
   "cell_type": "code",
   "execution_count": 55,
   "id": "569af2cd-4b98-4406-9ae4-db52cc027691",
   "metadata": {},
   "outputs": [
    {
     "data": {
      "text/plain": [
       "array([[0., 0., 0., 0., 0., 0., 0., 0., 0., 0., 0., 0., 0., 0., 0., 0.,\n",
       "        0., 0., 0., 0., 0., 0., 0., 0., 0.],\n",
       "       [0., 0., 0., 0., 0., 0., 0., 0., 0., 0., 0., 0., 0., 0., 0., 0.,\n",
       "        0., 0., 0., 0., 0., 0., 0., 0., 0.]])"
      ]
     },
     "execution_count": 55,
     "metadata": {},
     "output_type": "execute_result"
    }
   ],
   "source": [
    "a1, z = dense_RELU(X_train[0:2,:], W1, b1, relu)\n",
    "a1"
   ]
  },
  {
   "cell_type": "code",
   "execution_count": 56,
   "id": "3f2bd164-28ff-44af-b15f-21374c13a94b",
   "metadata": {},
   "outputs": [
    {
     "data": {
      "text/plain": [
       "array([[0.        , 0.97353945, 0.        , 0.        , 0.31210611,\n",
       "        0.00981898, 0.        , 0.        , 0.        , 0.22927292,\n",
       "        0.05955515, 0.        , 0.        , 0.70647511, 0.        ],\n",
       "       [0.        , 0.97353945, 0.        , 0.        , 0.31210611,\n",
       "        0.00981898, 0.        , 0.        , 0.        , 0.22927292,\n",
       "        0.05955515, 0.        , 0.        , 0.70647511, 0.        ]])"
      ]
     },
     "execution_count": 56,
     "metadata": {},
     "output_type": "execute_result"
    }
   ],
   "source": [
    "a2, z = dense_RELU(a1, W2, b2, relu)\n",
    "a2"
   ]
  },
  {
   "cell_type": "code",
   "execution_count": 57,
   "id": "4146101b-f72b-40cf-88ee-556564b004bb",
   "metadata": {},
   "outputs": [
    {
     "data": {
      "text/plain": [
       "array([[0.02045236, 0.54359049, 0.11833164, 0.00919324, 0.22384516,\n",
       "        0.01855282, 0.03455708, 0.02438272, 0.00117726, 0.00591725],\n",
       "       [0.02045236, 0.54359049, 0.11833164, 0.00919324, 0.22384516,\n",
       "        0.01855282, 0.03455708, 0.02438272, 0.00117726, 0.00591725]])"
      ]
     },
     "execution_count": 57,
     "metadata": {},
     "output_type": "execute_result"
    }
   ],
   "source": [
    "a3, z = dense_SOFTMAX(a2, W3, b3, softmax)\n",
    "a3"
   ]
  },
  {
   "cell_type": "markdown",
   "id": "67f46910-5035-4d73-aaf1-e7ae65d2200b",
   "metadata": {},
   "source": [
    "Let's now calculate a3 'by hand' (using Numpy mathematical operators) and check the result. The result also matches our output from above."
   ]
  },
  {
   "cell_type": "code",
   "execution_count": 58,
   "id": "462d7e44-6e98-47b7-8497-db65a531020c",
   "metadata": {},
   "outputs": [
    {
     "data": {
      "text/plain": [
       "array([[-1.76542621,  1.51467175, -0.01003324, -2.5650556 ,  0.62743011,\n",
       "        -1.86290274, -1.24091206, -1.58964978, -4.62033879, -3.00565343],\n",
       "       [-1.76542621,  1.51467175, -0.01003324, -2.5650556 ,  0.62743011,\n",
       "        -1.86290274, -1.24091206, -1.58964978, -4.62033879, -3.00565343]])"
      ]
     },
     "execution_count": 58,
     "metadata": {},
     "output_type": "execute_result"
    }
   ],
   "source": [
    "z = np.matmul(a2, W3) + b3\n",
    "z"
   ]
  },
  {
   "cell_type": "code",
   "execution_count": 59,
   "id": "8346658d-5190-488a-b75c-7d1750aeec51",
   "metadata": {},
   "outputs": [
    {
     "data": {
      "text/plain": [
       "array([[0.17111384, 4.54792801, 0.99001692, 0.0769149 , 1.87279152,\n",
       "        0.15522141, 0.2891204 , 0.20399704, 0.00984946, 0.04950639],\n",
       "       [0.17111384, 4.54792801, 0.99001692, 0.0769149 , 1.87279152,\n",
       "        0.15522141, 0.2891204 , 0.20399704, 0.00984946, 0.04950639]])"
      ]
     },
     "execution_count": 59,
     "metadata": {},
     "output_type": "execute_result"
    }
   ],
   "source": [
    "np.exp(z)"
   ]
  },
  {
   "cell_type": "code",
   "execution_count": 60,
   "id": "d664c610-c242-4d38-b40b-dba3af6457c8",
   "metadata": {},
   "outputs": [
    {
     "data": {
      "text/plain": [
       "array([8.3664599, 8.3664599])"
      ]
     },
     "execution_count": 60,
     "metadata": {},
     "output_type": "execute_result"
    }
   ],
   "source": [
    "np.exp(z).sum(axis=1)"
   ]
  },
  {
   "cell_type": "code",
   "execution_count": 61,
   "id": "464a8d6d-aeda-40ef-99cb-79521a1db916",
   "metadata": {},
   "outputs": [
    {
     "data": {
      "text/plain": [
       "array([[0.02045236, 0.54359049, 0.11833164, 0.00919324, 0.22384516,\n",
       "        0.01855282, 0.03455708, 0.02438272, 0.00117726, 0.00591725],\n",
       "       [0.02045236, 0.54359049, 0.11833164, 0.00919324, 0.22384516,\n",
       "        0.01855282, 0.03455708, 0.02438272, 0.00117726, 0.00591725]])"
      ]
     },
     "execution_count": 61,
     "metadata": {},
     "output_type": "execute_result"
    }
   ],
   "source": [
    "np.exp(z)/np.exp(z).sum(axis=1)[:,None]"
   ]
  },
  {
   "cell_type": "markdown",
   "id": "1f685935-e417-46a8-8f5a-906138f3a569",
   "metadata": {},
   "source": [
    "#### Back Propagation to Calculate the Derivatives:"
   ]
  },
  {
   "cell_type": "markdown",
   "id": "87acb7f8-934e-4871-a3ac-09596e922321",
   "metadata": {},
   "source": [
    "<a href='http://cs229.stanford.edu/notes2020spring/cs229-notes-deep_learning.pdf'>See this link for the derivatives required to do back propagation</a>"
   ]
  },
  {
   "cell_type": "markdown",
   "id": "6efe6436-1d89-4e0f-852f-7a484b5478fc",
   "metadata": {},
   "source": [
    "##### 1st, convert the y-labels into binary notation."
   ]
  },
  {
   "cell_type": "code",
   "execution_count": 62,
   "id": "fd0d00ba-dab2-4aa6-976b-b1d2e51dcdcc",
   "metadata": {},
   "outputs": [
    {
     "data": {
      "text/plain": [
       "array([1, 0, 1, 4, 0], dtype=int64)"
      ]
     },
     "execution_count": 62,
     "metadata": {},
     "output_type": "execute_result"
    }
   ],
   "source": [
    "Y_train[0:5]"
   ]
  },
  {
   "cell_type": "code",
   "execution_count": 63,
   "id": "0cc4924e-79e4-4d3b-a5f3-05d5b8852dcb",
   "metadata": {},
   "outputs": [
    {
     "data": {
      "text/plain": [
       "42000"
      ]
     },
     "execution_count": 63,
     "metadata": {},
     "output_type": "execute_result"
    }
   ],
   "source": [
    "Y_train.shape[0]"
   ]
  },
  {
   "cell_type": "code",
   "execution_count": 64,
   "id": "9230d5d8-8d67-481e-b3b4-f0f86815dffb",
   "metadata": {},
   "outputs": [],
   "source": [
    "def binary(Y):\n",
    "    \"\"\"\n",
    "    Converts the vector Y into a binary matrix.\n",
    "    Args:\n",
    "    Y : a row vector with the labels that each training example represent.\n",
    "\n",
    "    Returns:\n",
    "    Y_binary : a matrix with the labels from Y converted into binary.\n",
    "    \"\"\"\n",
    "    \n",
    "    # Initiate a zero matrix with number of rows equal to the number of training examples and number of columns equal to 10\n",
    "    Y_binary = np.zeros((Y.shape[0], 10))\n",
    "\n",
    "    # Create a set of labels - these refer to the row indices of the matrix Y.\n",
    "    LabelM = np.arange(0,Y.shape[0],1)\n",
    "\n",
    "    # Within Y_binary, assign the value 1 based on the values in Y.\n",
    "    Y_binary[LabelM[:,], Y[:,]] = 1\n",
    "    \n",
    "    return Y_binary"
   ]
  },
  {
   "cell_type": "markdown",
   "id": "b76cac40-374f-4959-b213-5f39a8bb16b1",
   "metadata": {},
   "source": [
    "Check that the code works:"
   ]
  },
  {
   "cell_type": "code",
   "execution_count": 65,
   "id": "17ee222a-4ea7-4eda-bf2f-874e54de5773",
   "metadata": {},
   "outputs": [
    {
     "data": {
      "text/plain": [
       "array([[0., 1., 0., 0., 0., 0., 0., 0., 0., 0.],\n",
       "       [1., 0., 0., 0., 0., 0., 0., 0., 0., 0.],\n",
       "       [0., 0., 0., 0., 1., 0., 0., 0., 0., 0.],\n",
       "       [0., 0., 0., 0., 0., 1., 0., 0., 0., 0.]])"
      ]
     },
     "execution_count": 65,
     "metadata": {},
     "output_type": "execute_result"
    }
   ],
   "source": [
    "Y = np.array([1, 0, 4, 5])\n",
    "binary(Y)"
   ]
  },
  {
   "cell_type": "markdown",
   "id": "659c2c87-2609-4275-8801-906cacff8d3c",
   "metadata": {},
   "source": [
    "##### 2nd, define the derivatives."
   ]
  },
  {
   "cell_type": "code",
   "execution_count": 75,
   "id": "9a8ad991-e274-4b5d-8a2e-d6b0317265f7",
   "metadata": {},
   "outputs": [],
   "source": [
    "def back_propagation(X, Y, a3, a2, z2, a1, z1):\n",
    "    \"\"\"\n",
    "    Computes all the derivatives required per iteration of gradient descent.\n",
    "    \"\"\"\n",
    "    # Compute dJ_dz3. Size: (42000,)\n",
    "    LabelM = np.arange(0,Y.shape[0],1)\n",
    "    dJ_dz3 = (a3 - binary(Y))[LabelM[:,], Y[:,]] # Extract only the value where binary(Y) = 1 in each row\n",
    "    \n",
    "    # Compute dJ_dw3. Size: (15,)\n",
    "    dJ_dw3 = dJ_dz3.dot(a2)\n",
    "    dJ_db3 = dJ_dz3\n",
    "    \n",
    "    # Compute dJ_dz2, dJ_dw2, dJ_db2\n",
    "    dJ_dz2 = W3.T.dot(dJ_dz3)*ReLU_dz(z2)\n",
    "    dJ_dw2 = dJ_dz2.dot(a1.T)\n",
    "    dJ_db2 = dJ_dz2\n",
    "    #\n",
    "    dJ_dz1 = W2.T.dot(dJ_dz2)*ReLU_dz(z1)\n",
    "    dJ_dw1 = dJ_dz1.dot(X.T)\n",
    "    dJ_db = dJ_dz1\n",
    "    \n",
    "    return dJ_dw3, dJ_db3, dJ_dw2, dJ_db2, dJ_dw1, dJ_db"
   ]
  },
  {
   "cell_type": "code",
   "execution_count": 76,
   "id": "b55aa2cb-3076-4511-b5df-871657a89f1a",
   "metadata": {},
   "outputs": [
    {
     "ename": "ValueError",
     "evalue": "shapes (10,15) and (42000,) not aligned: 15 (dim 1) != 42000 (dim 0)",
     "output_type": "error",
     "traceback": [
      "\u001b[1;31m---------------------------------------------------------------------------\u001b[0m",
      "\u001b[1;31mValueError\u001b[0m                                Traceback (most recent call last)",
      "Cell \u001b[1;32mIn[76], line 1\u001b[0m\n\u001b[1;32m----> 1\u001b[0m dJ_dw3, dJ_db3, dJ_dw2, dJ_db2, dJ_dw1, dJ_db \u001b[38;5;241m=\u001b[39m \u001b[43mback_propagation\u001b[49m\u001b[43m(\u001b[49m\u001b[43mX_train\u001b[49m\u001b[43m,\u001b[49m\u001b[43m \u001b[49m\u001b[43mY_train\u001b[49m\u001b[43m,\u001b[49m\u001b[43m \u001b[49m\u001b[43ma3\u001b[49m\u001b[43m,\u001b[49m\u001b[43m \u001b[49m\u001b[43ma2\u001b[49m\u001b[43m,\u001b[49m\u001b[43m \u001b[49m\u001b[43mz2\u001b[49m\u001b[43m,\u001b[49m\u001b[43m \u001b[49m\u001b[43ma1\u001b[49m\u001b[43m,\u001b[49m\u001b[43m \u001b[49m\u001b[43mz1\u001b[49m\u001b[43m)\u001b[49m\n",
      "Cell \u001b[1;32mIn[75], line 14\u001b[0m, in \u001b[0;36mback_propagation\u001b[1;34m(X, Y, a3, a2, z2, a1, z1)\u001b[0m\n\u001b[0;32m     11\u001b[0m dJ_db3 \u001b[38;5;241m=\u001b[39m dJ_dz3\n\u001b[0;32m     13\u001b[0m \u001b[38;5;66;03m# Compute dJ_dz2, dJ_dw2, dJ_db2\u001b[39;00m\n\u001b[1;32m---> 14\u001b[0m dJ_dz2 \u001b[38;5;241m=\u001b[39m \u001b[43mW3\u001b[49m\u001b[38;5;241;43m.\u001b[39;49m\u001b[43mT\u001b[49m\u001b[38;5;241;43m.\u001b[39;49m\u001b[43mdot\u001b[49m\u001b[43m(\u001b[49m\u001b[43mdJ_dz3\u001b[49m\u001b[43m)\u001b[49m\u001b[38;5;241m*\u001b[39mReLU_dz(z2)\n\u001b[0;32m     15\u001b[0m dJ_dw2 \u001b[38;5;241m=\u001b[39m dJ_dz2\u001b[38;5;241m.\u001b[39mdot(a1\u001b[38;5;241m.\u001b[39mT)\n\u001b[0;32m     16\u001b[0m dJ_db2 \u001b[38;5;241m=\u001b[39m dJ_dz2\n",
      "\u001b[1;31mValueError\u001b[0m: shapes (10,15) and (42000,) not aligned: 15 (dim 1) != 42000 (dim 0)"
     ]
    }
   ],
   "source": [
    "dJ_dw3, dJ_db3, dJ_dw2, dJ_db2, dJ_dw1, dJ_db = back_propagation(X_train, Y_train, a3, a2, z2, a1, z1)"
   ]
  },
  {
   "cell_type": "code",
   "execution_count": null,
   "id": "22fb4506-7d59-485f-ad62-3ae5f3dbd88d",
   "metadata": {},
   "outputs": [],
   "source": []
  }
 ],
 "metadata": {
  "kernelspec": {
   "display_name": "Python 3 (ipykernel)",
   "language": "python",
   "name": "python3"
  },
  "language_info": {
   "codemirror_mode": {
    "name": "ipython",
    "version": 3
   },
   "file_extension": ".py",
   "mimetype": "text/x-python",
   "name": "python",
   "nbconvert_exporter": "python",
   "pygments_lexer": "ipython3",
   "version": "3.11.4"
  }
 },
 "nbformat": 4,
 "nbformat_minor": 5
}
