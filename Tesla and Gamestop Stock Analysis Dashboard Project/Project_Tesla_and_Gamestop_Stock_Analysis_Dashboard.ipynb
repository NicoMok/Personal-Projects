{
 "cells": [
  {
   "cell_type": "markdown",
   "id": "2fc795a1",
   "metadata": {},
   "source": [
    "# Python Project: Tesla and Gamestop Stock Analysis Dashboard"
   ]
  },
  {
   "cell_type": "markdown",
   "id": "ab8a1185",
   "metadata": {},
   "source": [
    "Tesla and GameStop Stock Analysis Dashboard Project\n",
    "- Part 1: Use yfinance to Extract Stock Data\n",
    "- Part 2: Use Webscraping to Extract Tesla Revenue Data\n",
    "- Part 3: Use yfinance to Extract Stock Data\n",
    "- Part 4: Use Webscraping to Extract GME Revenue Data\n",
    "- Part 5: Plot Tesla Stock Graph\n",
    "- Part 6: Plot GameStop Stock Graph"
   ]
  },
  {
   "cell_type": "markdown",
   "id": "6872c430",
   "metadata": {},
   "source": [
    "Just a note: For plotly plots to display, you'll have to set the figures to display in your web browser.\n",
    "Thus the reason for io.renderers.default='browser'"
   ]
  },
  {
   "cell_type": "code",
   "execution_count": 1,
   "id": "3bebb60b",
   "metadata": {},
   "outputs": [
    {
     "name": "stdout",
     "output_type": "stream",
     "text": [
      "Requirement already satisfied: yfinance in c:\\users\\nicco\\miniconda3\\lib\\site-packages (0.2.26)\n",
      "Requirement already satisfied: pandas>=1.3.0 in c:\\users\\nicco\\miniconda3\\lib\\site-packages (from yfinance) (2.0.3)\n",
      "Requirement already satisfied: numpy>=1.16.5 in c:\\users\\nicco\\miniconda3\\lib\\site-packages (from yfinance) (1.25.1)\n",
      "Requirement already satisfied: requests>=2.31 in c:\\users\\nicco\\miniconda3\\lib\\site-packages (from yfinance) (2.31.0)\n",
      "Requirement already satisfied: multitasking>=0.0.7 in c:\\users\\nicco\\miniconda3\\lib\\site-packages (from yfinance) (0.0.11)\n",
      "Requirement already satisfied: lxml>=4.9.1 in c:\\users\\nicco\\miniconda3\\lib\\site-packages (from yfinance) (4.9.2)\n",
      "Requirement already satisfied: appdirs>=1.4.4 in c:\\users\\nicco\\miniconda3\\lib\\site-packages (from yfinance) (1.4.4)\n",
      "Requirement already satisfied: pytz>=2022.5 in c:\\users\\nicco\\miniconda3\\lib\\site-packages (from yfinance) (2022.7)\n",
      "Requirement already satisfied: frozendict>=2.3.4 in c:\\users\\nicco\\miniconda3\\lib\\site-packages (from yfinance) (2.3.8)\n",
      "Requirement already satisfied: beautifulsoup4>=4.11.1 in c:\\users\\nicco\\miniconda3\\lib\\site-packages (from yfinance) (4.12.2)\n",
      "Requirement already satisfied: html5lib>=1.1 in c:\\users\\nicco\\miniconda3\\lib\\site-packages (from yfinance) (1.1)\n",
      "Requirement already satisfied: soupsieve>1.2 in c:\\users\\nicco\\miniconda3\\lib\\site-packages (from beautifulsoup4>=4.11.1->yfinance) (2.4)\n",
      "Requirement already satisfied: six>=1.9 in c:\\users\\nicco\\miniconda3\\lib\\site-packages (from html5lib>=1.1->yfinance) (1.16.0)\n",
      "Requirement already satisfied: webencodings in c:\\users\\nicco\\miniconda3\\lib\\site-packages (from html5lib>=1.1->yfinance) (0.5.1)\n",
      "Requirement already satisfied: python-dateutil>=2.8.2 in c:\\users\\nicco\\miniconda3\\lib\\site-packages (from pandas>=1.3.0->yfinance) (2.8.2)\n",
      "Requirement already satisfied: tzdata>=2022.1 in c:\\users\\nicco\\miniconda3\\lib\\site-packages (from pandas>=1.3.0->yfinance) (2023.3)\n",
      "Requirement already satisfied: charset-normalizer<4,>=2 in c:\\users\\nicco\\miniconda3\\lib\\site-packages (from requests>=2.31->yfinance) (2.0.4)\n",
      "Requirement already satisfied: idna<4,>=2.5 in c:\\users\\nicco\\miniconda3\\lib\\site-packages (from requests>=2.31->yfinance) (3.4)\n",
      "Requirement already satisfied: urllib3<3,>=1.21.1 in c:\\users\\nicco\\miniconda3\\lib\\site-packages (from requests>=2.31->yfinance) (1.26.16)\n",
      "Requirement already satisfied: certifi>=2017.4.17 in c:\\users\\nicco\\miniconda3\\lib\\site-packages (from requests>=2.31->yfinance) (2023.5.7)\n",
      "Requirement already satisfied: pandas in c:\\users\\nicco\\miniconda3\\lib\\site-packages (2.0.3)\n",
      "Requirement already satisfied: python-dateutil>=2.8.2 in c:\\users\\nicco\\miniconda3\\lib\\site-packages (from pandas) (2.8.2)\n",
      "Requirement already satisfied: pytz>=2020.1 in c:\\users\\nicco\\miniconda3\\lib\\site-packages (from pandas) (2022.7)\n",
      "Requirement already satisfied: tzdata>=2022.1 in c:\\users\\nicco\\miniconda3\\lib\\site-packages (from pandas) (2023.3)\n",
      "Requirement already satisfied: numpy>=1.21.0 in c:\\users\\nicco\\miniconda3\\lib\\site-packages (from pandas) (1.25.1)\n",
      "Requirement already satisfied: six>=1.5 in c:\\users\\nicco\\miniconda3\\lib\\site-packages (from python-dateutil>=2.8.2->pandas) (1.16.0)\n",
      "Requirement already satisfied: requests in c:\\users\\nicco\\miniconda3\\lib\\site-packages (2.31.0)\n",
      "Requirement already satisfied: charset-normalizer<4,>=2 in c:\\users\\nicco\\miniconda3\\lib\\site-packages (from requests) (2.0.4)\n",
      "Requirement already satisfied: idna<4,>=2.5 in c:\\users\\nicco\\miniconda3\\lib\\site-packages (from requests) (3.4)\n",
      "Requirement already satisfied: urllib3<3,>=1.21.1 in c:\\users\\nicco\\miniconda3\\lib\\site-packages (from requests) (1.26.16)\n",
      "Requirement already satisfied: certifi>=2017.4.17 in c:\\users\\nicco\\miniconda3\\lib\\site-packages (from requests) (2023.5.7)\n",
      "Requirement already satisfied: beautifulsoup4 in c:\\users\\nicco\\miniconda3\\lib\\site-packages (4.12.2)\n",
      "Requirement already satisfied: soupsieve>1.2 in c:\\users\\nicco\\miniconda3\\lib\\site-packages (from beautifulsoup4) (2.4)\n",
      "Requirement already satisfied: plotly in c:\\users\\nicco\\miniconda3\\lib\\site-packages (5.15.0)\n",
      "Requirement already satisfied: tenacity>=6.2.0 in c:\\users\\nicco\\miniconda3\\lib\\site-packages (from plotly) (8.2.2)\n",
      "Requirement already satisfied: packaging in c:\\users\\nicco\\miniconda3\\lib\\site-packages (from plotly) (23.0)\n"
     ]
    }
   ],
   "source": [
    "!pip install yfinance\n",
    "!pip install pandas\n",
    "!pip install requests\n",
    "!pip install beautifulsoup4\n",
    "!pip install plotly\n",
    "\n",
    "import yfinance as yf\n",
    "import pandas as pd\n",
    "import requests\n",
    "from bs4 import BeautifulSoup\n",
    "import plotly.io as io\n",
    "io.renderers.default='browser'\n",
    "\n",
    "import plotly.graph_objects as go\n",
    "from plotly.subplots import make_subplots"
   ]
  },
  {
   "cell_type": "markdown",
   "id": "2582c139",
   "metadata": {},
   "source": [
    "#### Make_graph Function\n",
    "Use the following function to plot stock data with the plotly library.\n",
    "- stock_data: a dataframe with stock data - must contain \"Date\" and \"Close\" columns\n",
    "- revenue_data: a dataframe with revenue data - must contain \"Date\" and \"Close\" columns\n",
    "- stock: name of the stock"
   ]
  },
  {
   "cell_type": "code",
   "execution_count": 2,
   "id": "e2bc931f",
   "metadata": {},
   "outputs": [],
   "source": [
    "def make_graph(stock_data, revenue_data, stock):\n",
    "    fig = make_subplots(rows=2, cols=1, shared_xaxes=True, subplot_titles=(\"Historical Share Price\", \"Historical Revenue\"), vertical_spacing = .3)\n",
    "    stock_data_specific = stock_data[stock_data.Date <= '2021--06-14']\n",
    "    revenue_data_specific = revenue_data[revenue_data.Date <= '2021-04-30']\n",
    "    fig.add_trace(go.Scatter(x=pd.to_datetime(stock_data_specific.Date, infer_datetime_format=True), y=stock_data_specific.Close.astype(\"float\"), name=\"Share Price\"), row=1, col=1)\n",
    "    \n",
    "    fig.add_trace(go.Scatter(x=pd.to_datetime(revenue_data_specific.Date, infer_datetime_format=True), y=revenue_data_specific.Revenue.astype(\"float\"), name=\"Revenue\"), row=2, col=1)\n",
    "    fig.update_xaxes(title_text=\"Date\", row=1, col=1)\n",
    "    fig.update_xaxes(title_text=\"Date\", row=2, col=1)\n",
    "    fig.update_yaxes(title_text=\"Price ($US)\", row=1, col=1)\n",
    "    fig.update_yaxes(title_text=\"Revenue ($US Millions)\", row=2, col=1)\n",
    "    fig.update_layout(showlegend=False,\n",
    "    height=900,\n",
    "    title=stock,\n",
    "    xaxis_rangeslider_visible=True)\n",
    "    fig.show()"
   ]
  },
  {
   "cell_type": "markdown",
   "id": "aaee9bef",
   "metadata": {},
   "source": [
    "#### 1. Extract Tesla stock data using the Ticker function.\n",
    "Then extract the historical data using the .history() method. Set the period to 'max' to obtain the history of Tesla's stock since the beginning."
   ]
  },
  {
   "cell_type": "code",
   "execution_count": 3,
   "id": "172af6b8",
   "metadata": {},
   "outputs": [
    {
     "name": "stdout",
     "output_type": "stream",
     "text": [
      "Tesla Share Data: \n",
      "                               Open      High       Low     Close     Volume  \\\n",
      "Date                                                                           \n",
      "2010-06-29 00:00:00-04:00  1.266667  1.666667  1.169333  1.592667  281494500   \n",
      "2010-06-30 00:00:00-04:00  1.719333  2.028000  1.553333  1.588667  257806500   \n",
      "2010-07-01 00:00:00-04:00  1.666667  1.728000  1.351333  1.464000  123282000   \n",
      "2010-07-02 00:00:00-04:00  1.533333  1.540000  1.247333  1.280000   77097000   \n",
      "2010-07-06 00:00:00-04:00  1.333333  1.333333  1.055333  1.074000  103003500   \n",
      "\n",
      "                           Dividends  Stock Splits  \n",
      "Date                                                \n",
      "2010-06-29 00:00:00-04:00        0.0           0.0  \n",
      "2010-06-30 00:00:00-04:00        0.0           0.0  \n",
      "2010-07-01 00:00:00-04:00        0.0           0.0  \n",
      "2010-07-02 00:00:00-04:00        0.0           0.0  \n",
      "2010-07-06 00:00:00-04:00        0.0           0.0  \n"
     ]
    }
   ],
   "source": [
    "tesla = yf.Ticker('TSLA') # ticker object holding stock data for TSLA\n",
    "\n",
    "teslaShareData = tesla.history(period = 'max')\n",
    "# TSLA historical data. Period = 1m, 2m, 5m, 15m, 30m, 60m, 90m, 1h, 1d, 5d, \n",
    "# 1wk, 1mo, 3mo, max.\n",
    "#\n",
    "# Dataframe.index: Index = \"Date\" column \n",
    "# Dataframe.columns: Headers = [\"Open\", \"High\", \"Low\", ...]\n",
    "print('Tesla Share Data: ')\n",
    "print(teslaShareData.head())"
   ]
  },
  {
   "cell_type": "markdown",
   "id": "5ec3db14",
   "metadata": {},
   "source": [
    "Reset the index of the dataframe and display the first 5 rows."
   ]
  },
  {
   "cell_type": "code",
   "execution_count": 4,
   "id": "c7e88253",
   "metadata": {},
   "outputs": [
    {
     "name": "stdout",
     "output_type": "stream",
     "text": [
      "Tesla Share Data (Indices Revised): \n",
      "                       Date      Open      High       Low     Close  \\\n",
      "0 2010-06-29 00:00:00-04:00  1.266667  1.666667  1.169333  1.592667   \n",
      "1 2010-06-30 00:00:00-04:00  1.719333  2.028000  1.553333  1.588667   \n",
      "2 2010-07-01 00:00:00-04:00  1.666667  1.728000  1.351333  1.464000   \n",
      "3 2010-07-02 00:00:00-04:00  1.533333  1.540000  1.247333  1.280000   \n",
      "4 2010-07-06 00:00:00-04:00  1.333333  1.333333  1.055333  1.074000   \n",
      "\n",
      "      Volume  Dividends  Stock Splits  \n",
      "0  281494500        0.0           0.0  \n",
      "1  257806500        0.0           0.0  \n",
      "2  123282000        0.0           0.0  \n",
      "3   77097000        0.0           0.0  \n",
      "4  103003500        0.0           0.0  \n"
     ]
    }
   ],
   "source": [
    "teslaShareData = teslaShareData.reset_index()\n",
    "# Resets the index from the \"Date\" column to a list of [0, 1, 2, ...]\n",
    "# \"Date\" column now part of dataframe. \n",
    "\n",
    "print('Tesla Share Data (Indices Revised): ')\n",
    "print(teslaShareData.head())"
   ]
  },
  {
   "cell_type": "markdown",
   "id": "2adb3aa1",
   "metadata": {},
   "source": [
    "An alternative approach to resetting the indicies:\n",
    "\n",
    "teslaShareData.reset_index(inplace=True)\n",
    "\n",
    "print(teslaShareData.head())\n",
    "    \n",
    "- inplace=True: actively revises indices of the dataframe.\n",
    "- inplace=False: creates a copy of the dataframe, which you'll have to assign."
   ]
  },
  {
   "cell_type": "markdown",
   "id": "6a4afda4",
   "metadata": {},
   "source": [
    "#### 2. Use the request library to download Tesla revenue data. Save the text response in html_data\n",
    "\n",
    "<div><a href = 'https://cf-courses-data.s3.us.cloud-object-storage.appdomain.cloud/IBMDeveloperSkillsNetwork-PY0220EN-SkillsNetwork/labs/project/revenue.htm'>Link to Tesla revenue data</a></div>"
   ]
  },
  {
   "cell_type": "code",
   "execution_count": 5,
   "id": "02ee0c59",
   "metadata": {},
   "outputs": [],
   "source": [
    "url = 'https://cf-courses-data.s3.us.cloud-object-storage.appdomain.cloud/IBMDeveloperSkillsNetwork-PY0220EN-SkillsNetwork/labs/project/revenue.htm'    \n",
    "response = requests.get(url) # retrieve data from server\n",
    "html_data = response.text # stores the html code as a string\n",
    "\n",
    "soup = BeautifulSoup(html_data,\"html.parser\")"
   ]
  },
  {
   "cell_type": "markdown",
   "id": "ccdcbb81",
   "metadata": {},
   "source": [
    "Extract the table \"Tesla Quarterly Revenue\" and store it in dataframe 'tesla_revenue'. The dataframe should contain columns \"Date\" and \"Revenue\"."
   ]
  },
  {
   "cell_type": "markdown",
   "id": "6e32d9bc",
   "metadata": {},
   "source": [
    "##### First, determine the index of the table with the title \"Tesla Quarterly Revenue\""
   ]
  },
  {
   "cell_type": "code",
   "execution_count": 6,
   "id": "f55881ad",
   "metadata": {},
   "outputs": [],
   "source": [
    "theaders = soup.find_all('th') # extracts the table headers of all tables in a list\n",
    "# soup.find_all('th'):\n",
    "    # [ <th> ... </th>,\n",
    "    #   <th> ... </th>,\n",
    "    # ] - there will be 6 tables in the website."
   ]
  },
  {
   "cell_type": "markdown",
   "id": "9be82dc8",
   "metadata": {},
   "source": [
    "How I know 6?\n",
    "- View the source code of the site.\n",
    "- Then hit Ctrl+F --> \"<thead>\" --> Browser tells me there's 6 instances of this."
   ]
  },
  {
   "cell_type": "code",
   "execution_count": 7,
   "id": "f63993ef",
   "metadata": {},
   "outputs": [],
   "source": [
    "index = 0\n",
    "for i, header in enumerate(theaders):\n",
    "    # loop through each header, i.e. each element in the list theaders\n",
    "    if header.text == 'Tesla Quarterly Revenue(Millions of US $)':\n",
    "        #print('Index: ',i)\n",
    "        #print(header)\n",
    "        index = i\n",
    "        # Assign the index of the element with 'Tesla Quarterly ...' into 'index'"
   ]
  },
  {
   "cell_type": "markdown",
   "id": "0f9ba669",
   "metadata": {},
   "source": [
    "##### Second, extract the data from the table into dataframe tesla_revenue"
   ]
  },
  {
   "cell_type": "code",
   "execution_count": 8,
   "id": "8d9dc2a1",
   "metadata": {},
   "outputs": [
    {
     "name": "stdout",
     "output_type": "stream",
     "text": [
      "Tesla Quarterly Revenue (Millions of US $): \n",
      "          Date  Revenue\n",
      "0   2022-09-30  $21,454\n",
      "1   2022-06-30  $16,934\n",
      "2   2022-03-31  $18,756\n",
      "3   2021-12-31  $17,719\n",
      "4   2021-09-30  $13,757\n",
      "5   2021-06-30  $11,958\n",
      "6   2021-03-31  $10,389\n",
      "7   2020-12-31  $10,744\n",
      "8   2020-09-30   $8,771\n",
      "9   2020-06-30   $6,036\n",
      "10  2020-03-31   $5,985\n",
      "11  2019-12-31   $7,384\n",
      "12  2019-09-30   $6,303\n",
      "13  2019-06-30   $6,350\n",
      "14  2019-03-31   $4,541\n",
      "15  2018-12-31   $7,226\n",
      "16  2018-09-30   $6,824\n",
      "17  2018-06-30   $4,002\n",
      "18  2018-03-31   $3,409\n",
      "19  2017-12-31   $3,288\n",
      "20  2017-09-30   $2,985\n",
      "21  2017-06-30   $2,790\n",
      "22  2017-03-31   $2,696\n",
      "23  2016-12-31   $2,285\n",
      "24  2016-09-30   $2,298\n",
      "25  2016-06-30   $1,270\n",
      "26  2016-03-31   $1,147\n",
      "27  2015-12-31   $1,214\n",
      "28  2015-09-30     $937\n",
      "29  2015-06-30     $955\n",
      "30  2015-03-31     $940\n",
      "31  2014-12-31     $957\n",
      "32  2014-09-30     $852\n",
      "33  2014-06-30     $769\n",
      "34  2014-03-31     $621\n",
      "35  2013-12-31     $615\n",
      "36  2013-09-30     $431\n",
      "37  2013-06-30     $405\n",
      "38  2013-03-31     $562\n",
      "39  2012-12-31     $306\n",
      "40  2012-09-30      $50\n",
      "41  2012-06-30      $27\n",
      "42  2012-03-31      $30\n",
      "43  2011-12-31      $39\n",
      "44  2011-09-30      $58\n",
      "45  2011-06-30      $58\n",
      "46  2011-03-31      $49\n",
      "47  2010-12-31      $36\n",
      "48  2010-09-30      $31\n",
      "49  2010-06-30      $28\n",
      "50  2010-03-31      $21\n",
      "51  2009-12-31         \n",
      "52  2009-09-30      $46\n",
      "53  2009-06-30      $27\n",
      "2009-06-30\n",
      "$27\n"
     ]
    }
   ],
   "source": [
    "columns = ['Date','Revenue']\n",
    "tesla_revenue = pd.DataFrame(columns = columns) # set the columns of data frame\n",
    "\n",
    "date = []\n",
    "revenue = []\n",
    "\n",
    "tablebody = soup.find_all('tbody') # Focus only on the stuff within <tbody> \n",
    "tesla_revbody = tablebody[index] # Consider only the <tbody> corresponding to Tesla Quarterly Revenue\n",
    "\n",
    "# Loop through each row of the table, <tr> ... </tr>\n",
    "for row in tesla_revbody.find_all('tr'):\n",
    "    # tesla_revbody.find_all('tr')\n",
    "    # [ <tr><td>2022-09-30</td><td>$21,454</td></tr>, \n",
    "    #   <tr><td>2022-06-30</td><td>$16,934</td></tr>\n",
    "    #  ... ]\n",
    "    \n",
    "    # 1st row: <tr><td>2022-09-30</td><td>$21,454</td></tr>\n",
    "    \n",
    "    cell = row.find_all('td')\n",
    "    # for 1st row, cell = row.find_all('td')\n",
    "    # [ <td>2022-09-30</td>,\n",
    "    #   <td>$21,454</td>]\n",
    "    \n",
    "    date.append(cell[0].text)\n",
    "    revenue.append(cell[1].text)\n",
    "\n",
    "tesla_revenue[columns[0]] = date\n",
    "tesla_revenue[columns[1]] = revenue\n",
    "\n",
    "print('Tesla Quarterly Revenue (Millions of US $): ')\n",
    "print(tesla_revenue)\n",
    "print(tesla_revenue.loc[tesla_revenue.index[-1],'Date'])\n",
    "print(tesla_revenue.loc[tesla_revenue.index[-1],'Revenue'])\n"
   ]
  },
  {
   "cell_type": "markdown",
   "id": "d98bb040",
   "metadata": {},
   "source": [
    "Remove punctuation, and NaN values."
   ]
  },
  {
   "cell_type": "code",
   "execution_count": 9,
   "id": "2ae0305f",
   "metadata": {},
   "outputs": [
    {
     "name": "stdout",
     "output_type": "stream",
     "text": [
      "Tesla Quarterly Revenue (Millions of US $) (Revised): \n",
      "          Date Revenue\n",
      "0   2022-09-30   21454\n",
      "1   2022-06-30   16934\n",
      "2   2022-03-31   18756\n",
      "3   2021-12-31   17719\n",
      "4   2021-09-30   13757\n",
      "5   2021-06-30   11958\n",
      "6   2021-03-31   10389\n",
      "7   2020-12-31   10744\n",
      "8   2020-09-30    8771\n",
      "9   2020-06-30    6036\n",
      "10  2020-03-31    5985\n",
      "11  2019-12-31    7384\n",
      "12  2019-09-30    6303\n",
      "13  2019-06-30    6350\n",
      "14  2019-03-31    4541\n",
      "15  2018-12-31    7226\n",
      "16  2018-09-30    6824\n",
      "17  2018-06-30    4002\n",
      "18  2018-03-31    3409\n",
      "19  2017-12-31    3288\n",
      "20  2017-09-30    2985\n",
      "21  2017-06-30    2790\n",
      "22  2017-03-31    2696\n",
      "23  2016-12-31    2285\n",
      "24  2016-09-30    2298\n",
      "25  2016-06-30    1270\n",
      "26  2016-03-31    1147\n",
      "27  2015-12-31    1214\n",
      "28  2015-09-30     937\n",
      "29  2015-06-30     955\n",
      "30  2015-03-31     940\n",
      "31  2014-12-31     957\n",
      "32  2014-09-30     852\n",
      "33  2014-06-30     769\n",
      "34  2014-03-31     621\n",
      "35  2013-12-31     615\n",
      "36  2013-09-30     431\n",
      "37  2013-06-30     405\n",
      "38  2013-03-31     562\n",
      "39  2012-12-31     306\n",
      "40  2012-09-30      50\n",
      "41  2012-06-30      27\n",
      "42  2012-03-31      30\n",
      "43  2011-12-31      39\n",
      "44  2011-09-30      58\n",
      "45  2011-06-30      58\n",
      "46  2011-03-31      49\n",
      "47  2010-12-31      36\n",
      "48  2010-09-30      31\n",
      "49  2010-06-30      28\n",
      "50  2010-03-31      21\n",
      "52  2009-09-30      46\n",
      "53  2009-06-30      27\n"
     ]
    }
   ],
   "source": [
    "tesla_revenue[\"Revenue\"] = tesla_revenue[\"Revenue\"].str.replace('$','').str.replace(',','')    \n",
    "tesla_revenue.dropna(inplace=True)\n",
    "tesla_revenue = tesla_revenue[tesla_revenue['Revenue'] != \"\"]   \n",
    "print('Tesla Quarterly Revenue (Millions of US $) (Revised): ')\n",
    "print(tesla_revenue)   "
   ]
  },
  {
   "cell_type": "markdown",
   "id": "c0f91823",
   "metadata": {},
   "source": [
    "#### 3. Extract Gamestop stock data using the Ticker function."
   ]
  },
  {
   "cell_type": "code",
   "execution_count": 10,
   "id": "80008785",
   "metadata": {},
   "outputs": [
    {
     "name": "stdout",
     "output_type": "stream",
     "text": [
      "GME Share Data (Indices Revised): \n",
      "                       Date      Open      High       Low     Close    Volume  \\\n",
      "0 2002-02-13 00:00:00-05:00  1.620128  1.693350  1.603296  1.691666  76216000   \n",
      "1 2002-02-14 00:00:00-05:00  1.712707  1.716074  1.670626  1.683250  11021600   \n",
      "2 2002-02-15 00:00:00-05:00  1.683250  1.687458  1.658002  1.674834   8389600   \n",
      "3 2002-02-19 00:00:00-05:00  1.666418  1.666418  1.578047  1.607504   7410400   \n",
      "4 2002-02-20 00:00:00-05:00  1.615920  1.662210  1.603296  1.662210   6892800   \n",
      "\n",
      "   Dividends  Stock Splits  \n",
      "0        0.0           0.0  \n",
      "1        0.0           0.0  \n",
      "2        0.0           0.0  \n",
      "3        0.0           0.0  \n",
      "4        0.0           0.0  \n"
     ]
    }
   ],
   "source": [
    "GME = yf.Ticker('GME') # ticker object holding stock data for TSLA\n",
    "\n",
    "gme_Data = GME.history(period = 'max')\n",
    "# GME historical data. Period = 1m, 2m, 5m, 15m, 30m, 60m, 90m, 1h, 1d, 5d, \n",
    "# 1wk, 1mo, 3mo, max.\n",
    "\n",
    "# Reset the index of the dataframe and display the first 5 rows.\n",
    "gme_Data = gme_Data.reset_index()\n",
    "# Resets the index from the \"Date\" column to a list of [0, 1, 2, ...]\n",
    "# \"Date\" column now part of dataframe. \n",
    "\n",
    "print('GME Share Data (Indices Revised): ')\n",
    "print(gme_Data.head())"
   ]
  },
  {
   "cell_type": "markdown",
   "id": "88762f4e",
   "metadata": {},
   "source": [
    "#### 4. Extract Gamestop revenue data using requests. Save the text of the response in the variable html_data\n",
    "<div><a href='https://cf-courses-data.s3.us.cloud-object-storage.appdomain.cloud/IBMDeveloperSkillsNetwork-PY0220EN-SkillsNetwork/labs/project/stock.html'>Link to GameStop Revenue Data</a></div>"
   ]
  },
  {
   "cell_type": "code",
   "execution_count": 11,
   "id": "2cfb0880",
   "metadata": {},
   "outputs": [],
   "source": [
    "url = 'https://cf-courses-data.s3.us.cloud-object-storage.appdomain.cloud/IBMDeveloperSkillsNetwork-PY0220EN-SkillsNetwork/labs/project/stock.html'\n",
    "response = requests.get(url) # retrieve data from server\n",
    "html_data = response.text # stores the html code as a string\n",
    "\n",
    "soup = BeautifulSoup(html_data,\"html.parser\")"
   ]
  },
  {
   "cell_type": "markdown",
   "id": "a0c06fa0",
   "metadata": {},
   "source": [
    "Extract the table \"Gamestop Quarterly Revenue\" and store it in dataframe\n",
    "'gme_revenue'. The dataframe should contain columns \"Date\" and \"Revenue\".\n",
    "Remove the commas and dollar signs from the \"Revenue\" column."
   ]
  },
  {
   "cell_type": "code",
   "execution_count": 12,
   "id": "162fabe1",
   "metadata": {},
   "outputs": [
    {
     "name": "stdout",
     "output_type": "stream",
     "text": [
      "Index:  1\n",
      "<th colspan=\"2\" style=\"text-align:center\">GameStop Quarterly Revenue<br/><span style=\"font-size:14px;\">(Millions of US $)</span></th>\n",
      "Check if the below line represents the revenue in 2005-01-31 (which is $709 as per the hyperlink)\n",
      "2005-01-31\n",
      "$709\n"
     ]
    }
   ],
   "source": [
    "# Determine the index of the table with the title \"GamepStop Quarterly Revenue\"\n",
    "theaders2 = soup.find_all('th') # extracts the table headers of all tables in a list\n",
    "# soup.find_all('th'):\n",
    "    # [ <th> ... </th>,\n",
    "    #   <th> ... </th>,\n",
    "    # ] - there will be 6 tables in the website.\n",
    "    \n",
    "index = 0\n",
    "for i, header in enumerate(theaders2):\n",
    "    # loop through each header, i.e. each element in the list theaders\n",
    "    if header.text == 'GameStop Quarterly Revenue(Millions of US $)':\n",
    "        print('Index: ',i)\n",
    "        print(header)\n",
    "        index = i\n",
    "        # Assign the index of the element with 'GameStop Quarterly ...' into 'index'\n",
    "\n",
    "# Extract the data from the table into dataframe gme_revenue\n",
    "columns = ['Date','Revenue']\n",
    "gme_revenue = pd.DataFrame(columns = columns) # set the columns of data frame\n",
    "\n",
    "# Populate the dataframe\n",
    "date = []\n",
    "revenue = []\n",
    "\n",
    "tablebody = soup.find_all('tbody') # Focus only on the stuff within <tbody> \n",
    "gme_revbody = tablebody[index] # Consider only the <tbody> corresponding to GameStop Quarterly Revenue\n",
    "\n",
    "# Loop through each row of the table, <tr> ... </tr>\n",
    "for row in gme_revbody.find_all('tr'):\n",
    "    # gme_revbody.find_all('tr')\n",
    "    # [ <tr><td>2020-04-30</td><td>$1,021</td></tr>, \n",
    "    #   <tr><td>2020-01-31</td><td>$2,194</td></tr>\n",
    "    #  ... ]\n",
    "    \n",
    "    # 1st row: <tr><td>2020-04-30</td><td>$1,021</td></tr>\n",
    "    \n",
    "    cell = row.find_all('td')\n",
    "    # for 1st row, cell = row.find_all('td')\n",
    "    # [ <td>2020-04-30</td>,\n",
    "    #   <td>$1,021</td>]\n",
    "    \n",
    "    date.append(cell[0].text)\n",
    "    revenue.append(cell[1].text)\n",
    "\n",
    "gme_revenue[columns[0]] = date\n",
    "gme_revenue[columns[1]] = revenue\n",
    "\n",
    "print('Check if the below line represents the revenue in 2005-01-31 (which is $709 as per the hyperlink)')\n",
    "print(gme_revenue.loc[gme_revenue.index[-1],'Date'])\n",
    "print(gme_revenue.loc[gme_revenue.index[-1],'Revenue'])"
   ]
  },
  {
   "cell_type": "markdown",
   "id": "e82d7de7",
   "metadata": {},
   "source": [
    "Remove punctuation, and NaN values."
   ]
  },
  {
   "cell_type": "code",
   "execution_count": 13,
   "id": "cd4a88f1",
   "metadata": {},
   "outputs": [
    {
     "name": "stdout",
     "output_type": "stream",
     "text": [
      "GameStop Quarterly Revenue (Millions of US $) (Revised): \n",
      "          Date Revenue\n",
      "0   2020-04-30    1021\n",
      "1   2020-01-31    2194\n",
      "2   2019-10-31    1439\n",
      "3   2019-07-31    1286\n",
      "4   2019-04-30    1548\n",
      "..         ...     ...\n",
      "57  2006-01-31    1667\n",
      "58  2005-10-31     534\n",
      "59  2005-07-31     416\n",
      "60  2005-04-30     475\n",
      "61  2005-01-31     709\n",
      "\n",
      "[62 rows x 2 columns]\n"
     ]
    }
   ],
   "source": [
    "gme_revenue[\"Revenue\"] = gme_revenue[\"Revenue\"].str.replace('$','').str.replace(',','')    \n",
    "gme_revenue.dropna(inplace=True)\n",
    "gme_revenue = gme_revenue[gme_revenue['Revenue'] != \"\"]   \n",
    "print('GameStop Quarterly Revenue (Millions of US $) (Revised): ')\n",
    "print(gme_revenue)   "
   ]
  },
  {
   "cell_type": "markdown",
   "id": "1c486b10",
   "metadata": {},
   "source": [
    "#### 5. Use make_graph function to graph the Tesla stock data. Provide a title for the graph. Note that the graph will show data up to June 2021.\n",
    "Note that the graph will be displayed in a separate browser tab."
   ]
  },
  {
   "cell_type": "code",
   "execution_count": 14,
   "id": "34f2c379",
   "metadata": {},
   "outputs": [
    {
     "name": "stderr",
     "output_type": "stream",
     "text": [
      "C:\\Users\\nicco\\AppData\\Local\\Temp\\ipykernel_16512\\3433895755.py:5: UserWarning:\n",
      "\n",
      "The argument 'infer_datetime_format' is deprecated and will be removed in a future version. A strict version of it is now the default, see https://pandas.pydata.org/pdeps/0004-consistent-to-datetime-parsing.html. You can safely remove this argument.\n",
      "\n",
      "C:\\Users\\nicco\\AppData\\Local\\Temp\\ipykernel_16512\\3433895755.py:7: UserWarning:\n",
      "\n",
      "The argument 'infer_datetime_format' is deprecated and will be removed in a future version. A strict version of it is now the default, see https://pandas.pydata.org/pdeps/0004-consistent-to-datetime-parsing.html. You can safely remove this argument.\n",
      "\n"
     ]
    }
   ],
   "source": [
    "make_graph(teslaShareData, tesla_revenue, 'Tesla')"
   ]
  },
  {
   "cell_type": "markdown",
   "id": "d4d5c642",
   "metadata": {},
   "source": [
    "#### 6. Use make_graph function to graph the GameStop stock data. Provide a title for the graph. Note that the graph will show data up to June 2021.\n",
    "The graph will be displayed in a separate tab within the browser."
   ]
  },
  {
   "cell_type": "code",
   "execution_count": 15,
   "id": "e69c8f28",
   "metadata": {},
   "outputs": [
    {
     "name": "stderr",
     "output_type": "stream",
     "text": [
      "C:\\Users\\nicco\\AppData\\Local\\Temp\\ipykernel_16512\\3433895755.py:5: UserWarning:\n",
      "\n",
      "The argument 'infer_datetime_format' is deprecated and will be removed in a future version. A strict version of it is now the default, see https://pandas.pydata.org/pdeps/0004-consistent-to-datetime-parsing.html. You can safely remove this argument.\n",
      "\n",
      "C:\\Users\\nicco\\AppData\\Local\\Temp\\ipykernel_16512\\3433895755.py:7: UserWarning:\n",
      "\n",
      "The argument 'infer_datetime_format' is deprecated and will be removed in a future version. A strict version of it is now the default, see https://pandas.pydata.org/pdeps/0004-consistent-to-datetime-parsing.html. You can safely remove this argument.\n",
      "\n"
     ]
    }
   ],
   "source": [
    "make_graph(gme_Data, gme_revenue, 'Gamestop')"
   ]
  },
  {
   "cell_type": "markdown",
   "id": "6dc4cace",
   "metadata": {},
   "source": []
  }
 ],
 "metadata": {
  "kernelspec": {
   "display_name": "Python 3 (ipykernel)",
   "language": "python",
   "name": "python3"
  },
  "language_info": {
   "codemirror_mode": {
    "name": "ipython",
    "version": 3
   },
   "file_extension": ".py",
   "mimetype": "text/x-python",
   "name": "python",
   "nbconvert_exporter": "python",
   "pygments_lexer": "ipython3",
   "version": "3.11.4"
  }
 },
 "nbformat": 4,
 "nbformat_minor": 5
}
